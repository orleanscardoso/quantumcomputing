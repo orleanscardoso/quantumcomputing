Linhas onde S1 é igual a S2 nos dados de saída:
           S1         S2         S3         S4         S5         S6
16  -0.5*alfa  -0.5*alfa  -1.0*alfa  -2.0*alfa   0.5*alfa  -0.5*alfa
17          0          0  -1.0*alfa  -1.0*alfa   2.0*alfa          0
18          0          0  -1.0*alfa  -1.0*alfa          0  -2.0*alfa
19   0.5*alfa   0.5*alfa  -1.0*alfa          0   1.5*alfa  -1.5*alfa
20   0.5*alfa   0.5*alfa  -1.0*alfa  -2.0*alfa  -0.5*alfa   0.5*alfa
21   1.0*alfa   1.0*alfa  -1.0*alfa  -1.0*alfa   1.0*alfa   1.0*alfa
22   1.0*alfa   1.0*alfa  -1.0*alfa  -1.0*alfa  -1.0*alfa  -1.0*alfa
23   1.5*alfa   1.5*alfa  -1.0*alfa          0   0.5*alfa  -0.5*alfa
24  -0.5*alfa  -0.5*alfa   1.0*alfa  -2.0*alfa   0.5*alfa  -0.5*alfa
25          0          0   1.0*alfa  -1.0*alfa   2.0*alfa          0
26          0          0   1.0*alfa  -1.0*alfa          0  -2.0*alfa
27   0.5*alfa   0.5*alfa   1.0*alfa          0   1.5*alfa  -1.5*alfa
28   0.5*alfa   0.5*alfa   1.0*alfa  -2.0*alfa  -0.5*alfa   0.5*alfa
29   1.0*alfa   1.0*alfa   1.0*alfa  -1.0*alfa   1.0*alfa   1.0*alfa
30   1.0*alfa   1.0*alfa   1.0*alfa  -1.0*alfa  -1.0*alfa  -1.0*alfa
31   1.5*alfa   1.5*alfa   1.0*alfa          0   0.5*alfa  -0.5*alfa
32  -1.5*alfa  -1.5*alfa  -1.0*alfa          0  -0.5*alfa   0.5*alfa
33  -1.0*alfa  -1.0*alfa  -1.0*alfa   1.0*alfa   1.0*alfa   1.0*alfa
34  -1.0*alfa  -1.0*alfa  -1.0*alfa   1.0*alfa  -1.0*alfa  -1.0*alfa
35  -0.5*alfa  -0.5*alfa  -1.0*alfa   2.0*alfa   0.5*alfa  -0.5*alfa
36  -0.5*alfa  -0.5*alfa  -1.0*alfa          0  -1.5*alfa   1.5*alfa
37          0          0  -1.0*alfa   1.0*alfa          0   2.0*alfa
38          0          0  -1.0*alfa   1.0*alfa  -2.0*alfa          0
39   0.5*alfa   0.5*alfa  -1.0*alfa   2.0*alfa  -0.5*alfa   0.5*alfa
40  -1.5*alfa  -1.5*alfa   1.0*alfa          0  -0.5*alfa   0.5*alfa
41  -1.0*alfa  -1.0*alfa   1.0*alfa   1.0*alfa   1.0*alfa   1.0*alfa
42  -1.0*alfa  -1.0*alfa   1.0*alfa   1.0*alfa  -1.0*alfa  -1.0*alfa
43  -0.5*alfa  -0.5*alfa   1.0*alfa   2.0*alfa   0.5*alfa  -0.5*alfa
44  -0.5*alfa  -0.5*alfa   1.0*alfa          0  -1.5*alfa   1.5*alfa
45          0          0   1.0*alfa   1.0*alfa          0   2.0*alfa
46          0          0   1.0*alfa   1.0*alfa  -2.0*alfa          0
47   0.5*alfa   0.5*alfa   1.0*alfa   2.0*alfa  -0.5*alfa   0.5*alfa

Correspondentes nos dados de entrada:
    A  B  C  D  E  F
16  0  1  0  0  0  0
17  0  1  0  0  0  1
18  0  1  0  0  1  0
19  0  1  0  0  1  1
20  0  1  0  1  0  0
21  0  1  0  1  0  1
22  0  1  0  1  1  0
23  0  1  0  1  1  1
24  0  1  1  0  0  0
25  0  1  1  0  0  1
26  0  1  1  0  1  0
27  0  1  1  0  1  1
28  0  1  1  1  0  0
29  0  1  1  1  0  1
30  0  1  1  1  1  0
31  0  1  1  1  1  1
32  1  0  0  0  0  0
33  1  0  0  0  0  1
34  1  0  0  0  1  0
35  1  0  0  0  1  1
36  1  0  0  1  0  0
37  1  0  0  1  0  1
38  1  0  0  1  1  0
39  1  0  0  1  1  1
40  1  0  1  0  0  0
41  1  0  1  0  0  1
42  1  0  1  0  1  0
43  1  0  1  0  1  1
44  1  0  1  1  0  0
45  1  0  1  1  0  1
46  1  0  1  1  1  0
47  1  0  1  1  1  1
--------------------------------------------
Linhas onde S1 é igual a S3 nos dados de saída:
           S1         S2         S3         S4         S5         S6
3   -1.0*alfa   1.0*alfa  -1.0*alfa   1.0*alfa   1.0*alfa  -1.0*alfa
4   -1.0*alfa   1.0*alfa  -1.0*alfa  -1.0*alfa  -1.0*alfa   1.0*alfa
29   1.0*alfa   1.0*alfa   1.0*alfa  -1.0*alfa   1.0*alfa   1.0*alfa
30   1.0*alfa   1.0*alfa   1.0*alfa  -1.0*alfa  -1.0*alfa  -1.0*alfa
33  -1.0*alfa  -1.0*alfa  -1.0*alfa   1.0*alfa   1.0*alfa   1.0*alfa
34  -1.0*alfa  -1.0*alfa  -1.0*alfa   1.0*alfa  -1.0*alfa  -1.0*alfa
59   1.0*alfa  -1.0*alfa   1.0*alfa   1.0*alfa   1.0*alfa  -1.0*alfa
60   1.0*alfa  -1.0*alfa   1.0*alfa  -1.0*alfa  -1.0*alfa   1.0*alfa

Correspondentes nos dados de entrada:
    A  B  C  D  E  F
3   0  0  0  0  1  1
4   0  0  0  1  0  0
29  0  1  1  1  0  1
30  0  1  1  1  1  0
33  1  0  0  0  0  1
34  1  0  0  0  1  0
59  1  1  1  0  1  1
60  1  1  1  1  0  0
--------------------------------------------
Linhas onde S1 é igual a S4 nos dados de saída:
           S1         S2         S3         S4         S5         S6
4   -1.0*alfa   1.0*alfa  -1.0*alfa  -1.0*alfa  -1.0*alfa   1.0*alfa
12  -1.0*alfa   1.0*alfa   1.0*alfa  -1.0*alfa  -1.0*alfa   1.0*alfa
51   1.0*alfa  -1.0*alfa  -1.0*alfa   1.0*alfa   1.0*alfa  -1.0*alfa
59   1.0*alfa  -1.0*alfa   1.0*alfa   1.0*alfa   1.0*alfa  -1.0*alfa

Correspondentes nos dados de entrada:
    A  B  C  D  E  F
4   0  0  0  1  0  0
12  0  0  1  1  0  0
51  1  1  0  0  1  1
59  1  1  1  0  1  1
--------------------------------------------
Linhas onde S1 é igual a S5 nos dados de saída:
           S1         S2         S3         S4         S5         S6
4   -1.0*alfa   1.0*alfa  -1.0*alfa  -1.0*alfa  -1.0*alfa   1.0*alfa
7           0   2.0*alfa  -1.0*alfa   1.0*alfa          0          0
12  -1.0*alfa   1.0*alfa   1.0*alfa  -1.0*alfa  -1.0*alfa   1.0*alfa
15          0   2.0*alfa   1.0*alfa   1.0*alfa          0          0
18          0          0  -1.0*alfa  -1.0*alfa          0  -2.0*alfa
21   1.0*alfa   1.0*alfa  -1.0*alfa  -1.0*alfa   1.0*alfa   1.0*alfa
26          0          0   1.0*alfa  -1.0*alfa          0  -2.0*alfa
29   1.0*alfa   1.0*alfa   1.0*alfa  -1.0*alfa   1.0*alfa   1.0*alfa
34  -1.0*alfa  -1.0*alfa  -1.0*alfa   1.0*alfa  -1.0*alfa  -1.0*alfa
37          0          0  -1.0*alfa   1.0*alfa          0   2.0*alfa
42  -1.0*alfa  -1.0*alfa   1.0*alfa   1.0*alfa  -1.0*alfa  -1.0*alfa
45          0          0   1.0*alfa   1.0*alfa          0   2.0*alfa
48          0  -2.0*alfa  -1.0*alfa  -1.0*alfa          0          0
51   1.0*alfa  -1.0*alfa  -1.0*alfa   1.0*alfa   1.0*alfa  -1.0*alfa
56          0  -2.0*alfa   1.0*alfa  -1.0*alfa          0          0
59   1.0*alfa  -1.0*alfa   1.0*alfa   1.0*alfa   1.0*alfa  -1.0*alfa

Correspondentes nos dados de entrada:
    A  B  C  D  E  F
4   0  0  0  1  0  0
7   0  0  0  1  1  1
12  0  0  1  1  0  0
15  0  0  1  1  1  1
18  0  1  0  0  1  0
21  0  1  0  1  0  1
26  0  1  1  0  1  0
29  0  1  1  1  0  1
34  1  0  0  0  1  0
37  1  0  0  1  0  1
42  1  0  1  0  1  0
45  1  0  1  1  0  1
48  1  1  0  0  0  0
51  1  1  0  0  1  1
56  1  1  1  0  0  0
59  1  1  1  0  1  1
--------------------------------------------
Linhas onde S1 é igual a S6 nos dados de saída:
           S1         S2         S3         S4         S5         S6
2   -1.5*alfa   0.5*alfa  -1.0*alfa          0  -0.5*alfa  -1.5*alfa
3   -1.0*alfa   1.0*alfa  -1.0*alfa   1.0*alfa   1.0*alfa  -1.0*alfa
6   -0.5*alfa   1.5*alfa  -1.0*alfa          0  -1.5*alfa  -0.5*alfa
7           0   2.0*alfa  -1.0*alfa   1.0*alfa          0          0
10  -1.5*alfa   0.5*alfa   1.0*alfa          0  -0.5*alfa  -1.5*alfa
11  -1.0*alfa   1.0*alfa   1.0*alfa   1.0*alfa   1.0*alfa  -1.0*alfa
14  -0.5*alfa   1.5*alfa   1.0*alfa          0  -1.5*alfa  -0.5*alfa
15          0   2.0*alfa   1.0*alfa   1.0*alfa          0          0
16  -0.5*alfa  -0.5*alfa  -1.0*alfa  -2.0*alfa   0.5*alfa  -0.5*alfa
17          0          0  -1.0*alfa  -1.0*alfa   2.0*alfa          0
20   0.5*alfa   0.5*alfa  -1.0*alfa  -2.0*alfa  -0.5*alfa   0.5*alfa
21   1.0*alfa   1.0*alfa  -1.0*alfa  -1.0*alfa   1.0*alfa   1.0*alfa
24  -0.5*alfa  -0.5*alfa   1.0*alfa  -2.0*alfa   0.5*alfa  -0.5*alfa
25          0          0   1.0*alfa  -1.0*alfa   2.0*alfa          0
28   0.5*alfa   0.5*alfa   1.0*alfa  -2.0*alfa  -0.5*alfa   0.5*alfa
29   1.0*alfa   1.0*alfa   1.0*alfa  -1.0*alfa   1.0*alfa   1.0*alfa
34  -1.0*alfa  -1.0*alfa  -1.0*alfa   1.0*alfa  -1.0*alfa  -1.0*alfa
35  -0.5*alfa  -0.5*alfa  -1.0*alfa   2.0*alfa   0.5*alfa  -0.5*alfa
38          0          0  -1.0*alfa   1.0*alfa  -2.0*alfa          0
39   0.5*alfa   0.5*alfa  -1.0*alfa   2.0*alfa  -0.5*alfa   0.5*alfa
42  -1.0*alfa  -1.0*alfa   1.0*alfa   1.0*alfa  -1.0*alfa  -1.0*alfa
43  -0.5*alfa  -0.5*alfa   1.0*alfa   2.0*alfa   0.5*alfa  -0.5*alfa
46          0          0   1.0*alfa   1.0*alfa  -2.0*alfa          0
47   0.5*alfa   0.5*alfa   1.0*alfa   2.0*alfa  -0.5*alfa   0.5*alfa
48          0  -2.0*alfa  -1.0*alfa  -1.0*alfa          0          0
49   0.5*alfa  -1.5*alfa  -1.0*alfa          0   1.5*alfa   0.5*alfa
52   1.0*alfa  -1.0*alfa  -1.0*alfa  -1.0*alfa  -1.0*alfa   1.0*alfa
53   1.5*alfa  -0.5*alfa  -1.0*alfa          0   0.5*alfa   1.5*alfa
56          0  -2.0*alfa   1.0*alfa  -1.0*alfa          0          0
57   0.5*alfa  -1.5*alfa   1.0*alfa          0   1.5*alfa   0.5*alfa
60   1.0*alfa  -1.0*alfa   1.0*alfa  -1.0*alfa  -1.0*alfa   1.0*alfa
61   1.5*alfa  -0.5*alfa   1.0*alfa          0   0.5*alfa   1.5*alfa

Correspondentes nos dados de entrada:
    A  B  C  D  E  F
2   0  0  0  0  1  0
3   0  0  0  0  1  1
6   0  0  0  1  1  0
7   0  0  0  1  1  1
10  0  0  1  0  1  0
11  0  0  1  0  1  1
14  0  0  1  1  1  0
15  0  0  1  1  1  1
16  0  1  0  0  0  0
17  0  1  0  0  0  1
20  0  1  0  1  0  0
21  0  1  0  1  0  1
24  0  1  1  0  0  0
25  0  1  1  0  0  1
28  0  1  1  1  0  0
29  0  1  1  1  0  1
34  1  0  0  0  1  0
35  1  0  0  0  1  1
38  1  0  0  1  1  0
39  1  0  0  1  1  1
42  1  0  1  0  1  0
43  1  0  1  0  1  1
46  1  0  1  1  1  0
47  1  0  1  1  1  1
48  1  1  0  0  0  0
49  1  1  0  0  0  1
52  1  1  0  1  0  0
53  1  1  0  1  0  1
56  1  1  1  0  0  0
57  1  1  1  0  0  1
60  1  1  1  1  0  0
61  1  1  1  1  0  1
--------------------------------------------
Linhas onde S2 é igual a S3 nos dados de saída:
           S1         S2         S3         S4         S5         S6
11  -1.0*alfa   1.0*alfa   1.0*alfa   1.0*alfa   1.0*alfa  -1.0*alfa
12  -1.0*alfa   1.0*alfa   1.0*alfa  -1.0*alfa  -1.0*alfa   1.0*alfa
29   1.0*alfa   1.0*alfa   1.0*alfa  -1.0*alfa   1.0*alfa   1.0*alfa
30   1.0*alfa   1.0*alfa   1.0*alfa  -1.0*alfa  -1.0*alfa  -1.0*alfa
33  -1.0*alfa  -1.0*alfa  -1.0*alfa   1.0*alfa   1.0*alfa   1.0*alfa
34  -1.0*alfa  -1.0*alfa  -1.0*alfa   1.0*alfa  -1.0*alfa  -1.0*alfa
51   1.0*alfa  -1.0*alfa  -1.0*alfa   1.0*alfa   1.0*alfa  -1.0*alfa
52   1.0*alfa  -1.0*alfa  -1.0*alfa  -1.0*alfa  -1.0*alfa   1.0*alfa

Correspondentes nos dados de entrada:
    A  B  C  D  E  F
11  0  0  1  0  1  1
12  0  0  1  1  0  0
29  0  1  1  1  0  1
30  0  1  1  1  1  0
33  1  0  0  0  0  1
34  1  0  0  0  1  0
51  1  1  0  0  1  1
52  1  1  0  1  0  0
--------------------------------------------
Linhas onde S2 é igual a S4 nos dados de saída:
           S1         S2         S3         S4         S5         S6
3   -1.0*alfa   1.0*alfa  -1.0*alfa   1.0*alfa   1.0*alfa  -1.0*alfa
11  -1.0*alfa   1.0*alfa   1.0*alfa   1.0*alfa   1.0*alfa  -1.0*alfa
52   1.0*alfa  -1.0*alfa  -1.0*alfa  -1.0*alfa  -1.0*alfa   1.0*alfa
60   1.0*alfa  -1.0*alfa   1.0*alfa  -1.0*alfa  -1.0*alfa   1.0*alfa

Correspondentes nos dados de entrada:
    A  B  C  D  E  F
3   0  0  0  0  1  1
11  0  0  1  0  1  1
52  1  1  0  1  0  0
60  1  1  1  1  0  0
--------------------------------------------
Linhas onde S2 é igual a S5 nos dados de saída:
           S1         S2         S3         S4         S5         S6
0   -2.0*alfa          0  -1.0*alfa  -1.0*alfa          0          0
3   -1.0*alfa   1.0*alfa  -1.0*alfa   1.0*alfa   1.0*alfa  -1.0*alfa
8   -2.0*alfa          0   1.0*alfa  -1.0*alfa          0          0
11  -1.0*alfa   1.0*alfa   1.0*alfa   1.0*alfa   1.0*alfa  -1.0*alfa
18          0          0  -1.0*alfa  -1.0*alfa          0  -2.0*alfa
21   1.0*alfa   1.0*alfa  -1.0*alfa  -1.0*alfa   1.0*alfa   1.0*alfa
26          0          0   1.0*alfa  -1.0*alfa          0  -2.0*alfa
29   1.0*alfa   1.0*alfa   1.0*alfa  -1.0*alfa   1.0*alfa   1.0*alfa
34  -1.0*alfa  -1.0*alfa  -1.0*alfa   1.0*alfa  -1.0*alfa  -1.0*alfa
37          0          0  -1.0*alfa   1.0*alfa          0   2.0*alfa
42  -1.0*alfa  -1.0*alfa   1.0*alfa   1.0*alfa  -1.0*alfa  -1.0*alfa
45          0          0   1.0*alfa   1.0*alfa          0   2.0*alfa
52   1.0*alfa  -1.0*alfa  -1.0*alfa  -1.0*alfa  -1.0*alfa   1.0*alfa
55   2.0*alfa          0  -1.0*alfa   1.0*alfa          0          0
60   1.0*alfa  -1.0*alfa   1.0*alfa  -1.0*alfa  -1.0*alfa   1.0*alfa
63   2.0*alfa          0   1.0*alfa   1.0*alfa          0          0

Correspondentes nos dados de entrada:
    A  B  C  D  E  F
0   0  0  0  0  0  0
3   0  0  0  0  1  1
8   0  0  1  0  0  0
11  0  0  1  0  1  1
18  0  1  0  0  1  0
21  0  1  0  1  0  1
26  0  1  1  0  1  0
29  0  1  1  1  0  1
34  1  0  0  0  1  0
37  1  0  0  1  0  1
42  1  0  1  0  1  0
45  1  0  1  1  0  1
52  1  1  0  1  0  0
55  1  1  0  1  1  1
60  1  1  1  1  0  0
63  1  1  1  1  1  1
--------------------------------------------
Linhas onde S2 é igual a S6 nos dados de saída:
           S1         S2         S3         S4         S5         S6
0   -2.0*alfa          0  -1.0*alfa  -1.0*alfa          0          0
1   -1.5*alfa   0.5*alfa  -1.0*alfa          0   1.5*alfa   0.5*alfa
4   -1.0*alfa   1.0*alfa  -1.0*alfa  -1.0*alfa  -1.0*alfa   1.0*alfa
5   -0.5*alfa   1.5*alfa  -1.0*alfa          0   0.5*alfa   1.5*alfa
8   -2.0*alfa          0   1.0*alfa  -1.0*alfa          0          0
9   -1.5*alfa   0.5*alfa   1.0*alfa          0   1.5*alfa   0.5*alfa
12  -1.0*alfa   1.0*alfa   1.0*alfa  -1.0*alfa  -1.0*alfa   1.0*alfa
13  -0.5*alfa   1.5*alfa   1.0*alfa          0   0.5*alfa   1.5*alfa
16  -0.5*alfa  -0.5*alfa  -1.0*alfa  -2.0*alfa   0.5*alfa  -0.5*alfa
17          0          0  -1.0*alfa  -1.0*alfa   2.0*alfa          0
20   0.5*alfa   0.5*alfa  -1.0*alfa  -2.0*alfa  -0.5*alfa   0.5*alfa
21   1.0*alfa   1.0*alfa  -1.0*alfa  -1.0*alfa   1.0*alfa   1.0*alfa
24  -0.5*alfa  -0.5*alfa   1.0*alfa  -2.0*alfa   0.5*alfa  -0.5*alfa
25          0          0   1.0*alfa  -1.0*alfa   2.0*alfa          0
28   0.5*alfa   0.5*alfa   1.0*alfa  -2.0*alfa  -0.5*alfa   0.5*alfa
29   1.0*alfa   1.0*alfa   1.0*alfa  -1.0*alfa   1.0*alfa   1.0*alfa
34  -1.0*alfa  -1.0*alfa  -1.0*alfa   1.0*alfa  -1.0*alfa  -1.0*alfa
35  -0.5*alfa  -0.5*alfa  -1.0*alfa   2.0*alfa   0.5*alfa  -0.5*alfa
38          0          0  -1.0*alfa   1.0*alfa  -2.0*alfa          0
39   0.5*alfa   0.5*alfa  -1.0*alfa   2.0*alfa  -0.5*alfa   0.5*alfa
42  -1.0*alfa  -1.0*alfa   1.0*alfa   1.0*alfa  -1.0*alfa  -1.0*alfa
43  -0.5*alfa  -0.5*alfa   1.0*alfa   2.0*alfa   0.5*alfa  -0.5*alfa
46          0          0   1.0*alfa   1.0*alfa  -2.0*alfa          0
47   0.5*alfa   0.5*alfa   1.0*alfa   2.0*alfa  -0.5*alfa   0.5*alfa
50   0.5*alfa  -1.5*alfa  -1.0*alfa          0  -0.5*alfa  -1.5*alfa
51   1.0*alfa  -1.0*alfa  -1.0*alfa   1.0*alfa   1.0*alfa  -1.0*alfa
54   1.5*alfa  -0.5*alfa  -1.0*alfa          0  -1.5*alfa  -0.5*alfa
55   2.0*alfa          0  -1.0*alfa   1.0*alfa          0          0
58   0.5*alfa  -1.5*alfa   1.0*alfa          0  -0.5*alfa  -1.5*alfa
59   1.0*alfa  -1.0*alfa   1.0*alfa   1.0*alfa   1.0*alfa  -1.0*alfa
62   1.5*alfa  -0.5*alfa   1.0*alfa          0  -1.5*alfa  -0.5*alfa
63   2.0*alfa          0   1.0*alfa   1.0*alfa          0          0

Correspondentes nos dados de entrada:
    A  B  C  D  E  F
0   0  0  0  0  0  0
1   0  0  0  0  0  1
4   0  0  0  1  0  0
5   0  0  0  1  0  1
8   0  0  1  0  0  0
9   0  0  1  0  0  1
12  0  0  1  1  0  0
13  0  0  1  1  0  1
16  0  1  0  0  0  0
17  0  1  0  0  0  1
20  0  1  0  1  0  0
21  0  1  0  1  0  1
24  0  1  1  0  0  0
25  0  1  1  0  0  1
28  0  1  1  1  0  0
29  0  1  1  1  0  1
34  1  0  0  0  1  0
35  1  0  0  0  1  1
38  1  0  0  1  1  0
39  1  0  0  1  1  1
42  1  0  1  0  1  0
43  1  0  1  0  1  1
46  1  0  1  1  1  0
47  1  0  1  1  1  1
50  1  1  0  0  1  0
51  1  1  0  0  1  1
54  1  1  0  1  1  0
55  1  1  0  1  1  1
58  1  1  1  0  1  0
59  1  1  1  0  1  1
62  1  1  1  1  1  0
63  1  1  1  1  1  1
--------------------------------------------
Linhas onde S3 é igual a S4 nos dados de saída:
           S1         S2         S3         S4         S5         S6
0   -2.0*alfa          0  -1.0*alfa  -1.0*alfa          0          0
4   -1.0*alfa   1.0*alfa  -1.0*alfa  -1.0*alfa  -1.0*alfa   1.0*alfa
11  -1.0*alfa   1.0*alfa   1.0*alfa   1.0*alfa   1.0*alfa  -1.0*alfa
15          0   2.0*alfa   1.0*alfa   1.0*alfa          0          0
17          0          0  -1.0*alfa  -1.0*alfa   2.0*alfa          0
18          0          0  -1.0*alfa  -1.0*alfa          0  -2.0*alfa
21   1.0*alfa   1.0*alfa  -1.0*alfa  -1.0*alfa   1.0*alfa   1.0*alfa
22   1.0*alfa   1.0*alfa  -1.0*alfa  -1.0*alfa  -1.0*alfa  -1.0*alfa
41  -1.0*alfa  -1.0*alfa   1.0*alfa   1.0*alfa   1.0*alfa   1.0*alfa
42  -1.0*alfa  -1.0*alfa   1.0*alfa   1.0*alfa  -1.0*alfa  -1.0*alfa
45          0          0   1.0*alfa   1.0*alfa          0   2.0*alfa
46          0          0   1.0*alfa   1.0*alfa  -2.0*alfa          0
48          0  -2.0*alfa  -1.0*alfa  -1.0*alfa          0          0
52   1.0*alfa  -1.0*alfa  -1.0*alfa  -1.0*alfa  -1.0*alfa   1.0*alfa
59   1.0*alfa  -1.0*alfa   1.0*alfa   1.0*alfa   1.0*alfa  -1.0*alfa
63   2.0*alfa          0   1.0*alfa   1.0*alfa          0          0

Correspondentes nos dados de entrada:
    A  B  C  D  E  F
0   0  0  0  0  0  0
4   0  0  0  1  0  0
11  0  0  1  0  1  1
15  0  0  1  1  1  1
17  0  1  0  0  0  1
18  0  1  0  0  1  0
21  0  1  0  1  0  1
22  0  1  0  1  1  0
41  1  0  1  0  0  1
42  1  0  1  0  1  0
45  1  0  1  1  0  1
46  1  0  1  1  1  0
48  1  1  0  0  0  0
52  1  1  0  1  0  0
59  1  1  1  0  1  1
63  1  1  1  1  1  1
--------------------------------------------
Linhas onde S3 é igual a S5 nos dados de saída:
           S1         S2         S3         S4         S5         S6
4   -1.0*alfa   1.0*alfa  -1.0*alfa  -1.0*alfa  -1.0*alfa   1.0*alfa
11  -1.0*alfa   1.0*alfa   1.0*alfa   1.0*alfa   1.0*alfa  -1.0*alfa
22   1.0*alfa   1.0*alfa  -1.0*alfa  -1.0*alfa  -1.0*alfa  -1.0*alfa
29   1.0*alfa   1.0*alfa   1.0*alfa  -1.0*alfa   1.0*alfa   1.0*alfa
34  -1.0*alfa  -1.0*alfa  -1.0*alfa   1.0*alfa  -1.0*alfa  -1.0*alfa
41  -1.0*alfa  -1.0*alfa   1.0*alfa   1.0*alfa   1.0*alfa   1.0*alfa
52   1.0*alfa  -1.0*alfa  -1.0*alfa  -1.0*alfa  -1.0*alfa   1.0*alfa
59   1.0*alfa  -1.0*alfa   1.0*alfa   1.0*alfa   1.0*alfa  -1.0*alfa

Correspondentes nos dados de entrada:
    A  B  C  D  E  F
4   0  0  0  1  0  0
11  0  0  1  0  1  1
22  0  1  0  1  1  0
29  0  1  1  1  0  1
34  1  0  0  0  1  0
41  1  0  1  0  0  1
52  1  1  0  1  0  0
59  1  1  1  0  1  1
--------------------------------------------
Linhas onde S3 é igual a S6 nos dados de saída:
           S1         S2         S3         S4         S5         S6
3   -1.0*alfa   1.0*alfa  -1.0*alfa   1.0*alfa   1.0*alfa  -1.0*alfa
12  -1.0*alfa   1.0*alfa   1.0*alfa  -1.0*alfa  -1.0*alfa   1.0*alfa
22   1.0*alfa   1.0*alfa  -1.0*alfa  -1.0*alfa  -1.0*alfa  -1.0*alfa
29   1.0*alfa   1.0*alfa   1.0*alfa  -1.0*alfa   1.0*alfa   1.0*alfa
34  -1.0*alfa  -1.0*alfa  -1.0*alfa   1.0*alfa  -1.0*alfa  -1.0*alfa
41  -1.0*alfa  -1.0*alfa   1.0*alfa   1.0*alfa   1.0*alfa   1.0*alfa
51   1.0*alfa  -1.0*alfa  -1.0*alfa   1.0*alfa   1.0*alfa  -1.0*alfa
60   1.0*alfa  -1.0*alfa   1.0*alfa  -1.0*alfa  -1.0*alfa   1.0*alfa

Correspondentes nos dados de entrada:
    A  B  C  D  E  F
3   0  0  0  0  1  1
12  0  0  1  1  0  0
22  0  1  0  1  1  0
29  0  1  1  1  0  1
34  1  0  0  0  1  0
41  1  0  1  0  0  1
51  1  1  0  0  1  1
60  1  1  1  1  0  0
--------------------------------------------
Linhas onde S4 é igual a S5 nos dados de saída:
           S1         S2         S3         S4         S5         S6
3   -1.0*alfa   1.0*alfa  -1.0*alfa   1.0*alfa   1.0*alfa  -1.0*alfa
4   -1.0*alfa   1.0*alfa  -1.0*alfa  -1.0*alfa  -1.0*alfa   1.0*alfa
11  -1.0*alfa   1.0*alfa   1.0*alfa   1.0*alfa   1.0*alfa  -1.0*alfa
12  -1.0*alfa   1.0*alfa   1.0*alfa  -1.0*alfa  -1.0*alfa   1.0*alfa
22   1.0*alfa   1.0*alfa  -1.0*alfa  -1.0*alfa  -1.0*alfa  -1.0*alfa
30   1.0*alfa   1.0*alfa   1.0*alfa  -1.0*alfa  -1.0*alfa  -1.0*alfa
33  -1.0*alfa  -1.0*alfa  -1.0*alfa   1.0*alfa   1.0*alfa   1.0*alfa
41  -1.0*alfa  -1.0*alfa   1.0*alfa   1.0*alfa   1.0*alfa   1.0*alfa
51   1.0*alfa  -1.0*alfa  -1.0*alfa   1.0*alfa   1.0*alfa  -1.0*alfa
52   1.0*alfa  -1.0*alfa  -1.0*alfa  -1.0*alfa  -1.0*alfa   1.0*alfa
59   1.0*alfa  -1.0*alfa   1.0*alfa   1.0*alfa   1.0*alfa  -1.0*alfa
60   1.0*alfa  -1.0*alfa   1.0*alfa  -1.0*alfa  -1.0*alfa   1.0*alfa

Correspondentes nos dados de entrada:
    A  B  C  D  E  F
3   0  0  0  0  1  1
4   0  0  0  1  0  0
11  0  0  1  0  1  1
12  0  0  1  1  0  0
22  0  1  0  1  1  0
30  0  1  1  1  1  0
33  1  0  0  0  0  1
41  1  0  1  0  0  1
51  1  1  0  0  1  1
52  1  1  0  1  0  0
59  1  1  1  0  1  1
60  1  1  1  1  0  0
--------------------------------------------
Linhas onde S4 é igual a S6 nos dados de saída:
           S1         S2         S3         S4         S5         S6
22   1.0*alfa   1.0*alfa  -1.0*alfa  -1.0*alfa  -1.0*alfa  -1.0*alfa
30   1.0*alfa   1.0*alfa   1.0*alfa  -1.0*alfa  -1.0*alfa  -1.0*alfa
33  -1.0*alfa  -1.0*alfa  -1.0*alfa   1.0*alfa   1.0*alfa   1.0*alfa
41  -1.0*alfa  -1.0*alfa   1.0*alfa   1.0*alfa   1.0*alfa   1.0*alfa

Correspondentes nos dados de entrada:
    A  B  C  D  E  F
22  0  1  0  1  1  0
30  0  1  1  1  1  0
33  1  0  0  0  0  1
41  1  0  1  0  0  1
--------------------------------------------
Linhas onde S5 é igual a S6 nos dados de saída:
           S1         S2         S3         S4         S5         S6
0   -2.0*alfa          0  -1.0*alfa  -1.0*alfa          0          0
7           0   2.0*alfa  -1.0*alfa   1.0*alfa          0          0
8   -2.0*alfa          0   1.0*alfa  -1.0*alfa          0          0
15          0   2.0*alfa   1.0*alfa   1.0*alfa          0          0
21   1.0*alfa   1.0*alfa  -1.0*alfa  -1.0*alfa   1.0*alfa   1.0*alfa
22   1.0*alfa   1.0*alfa  -1.0*alfa  -1.0*alfa  -1.0*alfa  -1.0*alfa
29   1.0*alfa   1.0*alfa   1.0*alfa  -1.0*alfa   1.0*alfa   1.0*alfa
30   1.0*alfa   1.0*alfa   1.0*alfa  -1.0*alfa  -1.0*alfa  -1.0*alfa
33  -1.0*alfa  -1.0*alfa  -1.0*alfa   1.0*alfa   1.0*alfa   1.0*alfa
34  -1.0*alfa  -1.0*alfa  -1.0*alfa   1.0*alfa  -1.0*alfa  -1.0*alfa
41  -1.0*alfa  -1.0*alfa   1.0*alfa   1.0*alfa   1.0*alfa   1.0*alfa
42  -1.0*alfa  -1.0*alfa   1.0*alfa   1.0*alfa  -1.0*alfa  -1.0*alfa
48          0  -2.0*alfa  -1.0*alfa  -1.0*alfa          0          0
55   2.0*alfa          0  -1.0*alfa   1.0*alfa          0          0
56          0  -2.0*alfa   1.0*alfa  -1.0*alfa          0          0
63   2.0*alfa          0   1.0*alfa   1.0*alfa          0          0

Correspondentes nos dados de entrada:
    A  B  C  D  E  F
0   0  0  0  0  0  0
7   0  0  0  1  1  1
8   0  0  1  0  0  0
15  0  0  1  1  1  1
21  0  1  0  1  0  1
22  0  1  0  1  1  0
29  0  1  1  1  0  1
30  0  1  1  1  1  0
33  1  0  0  0  0  1
34  1  0  0  0  1  0
41  1  0  1  0  0  1
42  1  0  1  0  1  0
48  1  1  0  0  0  0
55  1  1  0  1  1  1
56  1  1  1  0  0  0
63  1  1  1  1  1  1
--------------------------------------------
