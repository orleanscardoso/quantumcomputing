As colunas 'S1' e 'S2' são iguais e a coluna 'S5' é igual à '1.0*alfa'
Saídas correspondentes:
           S1         S2         S3         S4        S5        S6
21   1.0*alfa   1.0*alfa  -1.0*alfa  -1.0*alfa  1.0*alfa  1.0*alfa
29   1.0*alfa   1.0*alfa   1.0*alfa  -1.0*alfa  1.0*alfa  1.0*alfa
33  -1.0*alfa  -1.0*alfa  -1.0*alfa   1.0*alfa  1.0*alfa  1.0*alfa
41  -1.0*alfa  -1.0*alfa   1.0*alfa   1.0*alfa  1.0*alfa  1.0*alfa
Entradas correspondentes:
    A  B  C  D  E  F
21  0  1  0  1  0  1
29  0  1  1  1  0  1
33  1  0  0  0  0  1
41  1  0  1  0  0  1
Equação correspondente:
S1: A'
S2: A'
S3: B
S4: A
S5: 1
S6: 1
--------------------------------------------
As colunas 'S1' e 'S2' são iguais e a coluna 'S5' é igual à '-1.0*alfa'
Saídas correspondentes:
           S1         S2         S3         S4         S5         S6
22   1.0*alfa   1.0*alfa  -1.0*alfa  -1.0*alfa  -1.0*alfa  -1.0*alfa
30   1.0*alfa   1.0*alfa   1.0*alfa  -1.0*alfa  -1.0*alfa  -1.0*alfa
34  -1.0*alfa  -1.0*alfa  -1.0*alfa   1.0*alfa  -1.0*alfa  -1.0*alfa
42  -1.0*alfa  -1.0*alfa   1.0*alfa   1.0*alfa  -1.0*alfa  -1.0*alfa
Entradas correspondentes:
    A  B  C  D  E  F
22  0  1  0  1  1  0
30  0  1  1  1  1  0
34  1  0  0  0  1  0
42  1  0  1  0  1  0
Equação correspondente:
S1: A'
S2: A'
S3: B
S4: A
S5: 0
S6: 0
--------------------------------------------
As colunas 'S1' e 'S2' são iguais e a coluna 'S6' é igual à '1.0*alfa'
Saídas correspondentes:
           S1         S2         S3         S4        S5        S6
21   1.0*alfa   1.0*alfa  -1.0*alfa  -1.0*alfa  1.0*alfa  1.0*alfa
29   1.0*alfa   1.0*alfa   1.0*alfa  -1.0*alfa  1.0*alfa  1.0*alfa
33  -1.0*alfa  -1.0*alfa  -1.0*alfa   1.0*alfa  1.0*alfa  1.0*alfa
41  -1.0*alfa  -1.0*alfa   1.0*alfa   1.0*alfa  1.0*alfa  1.0*alfa
Entradas correspondentes:
    A  B  C  D  E  F
21  0  1  0  1  0  1
29  0  1  1  1  0  1
33  1  0  0  0  0  1
41  1  0  1  0  0  1
Equação correspondente:
S1: A'
S2: A'
S3: B
S4: A
S5: 1
S6: 1
--------------------------------------------
As colunas 'S1' e 'S2' são iguais e a coluna 'S6' é igual à '-1.0*alfa'
Saídas correspondentes:
           S1         S2         S3         S4         S5         S6
22   1.0*alfa   1.0*alfa  -1.0*alfa  -1.0*alfa  -1.0*alfa  -1.0*alfa
30   1.0*alfa   1.0*alfa   1.0*alfa  -1.0*alfa  -1.0*alfa  -1.0*alfa
34  -1.0*alfa  -1.0*alfa  -1.0*alfa   1.0*alfa  -1.0*alfa  -1.0*alfa
42  -1.0*alfa  -1.0*alfa   1.0*alfa   1.0*alfa  -1.0*alfa  -1.0*alfa
Entradas correspondentes:
    A  B  C  D  E  F
22  0  1  0  1  1  0
30  0  1  1  1  1  0
34  1  0  0  0  1  0
42  1  0  1  0  1  0
Equação correspondente:
S1: A'
S2: A'
S3: B
S4: A
S5: 0
S6: 0
--------------------------------------------
As colunas 'S1' e 'S2' são diferentes e a coluna 'S5' é igual à '1.0*alfa'
Saídas correspondentes:
           S1         S2         S3        S4        S5         S6
3   -1.0*alfa   1.0*alfa  -1.0*alfa  1.0*alfa  1.0*alfa  -1.0*alfa
11  -1.0*alfa   1.0*alfa   1.0*alfa  1.0*alfa  1.0*alfa  -1.0*alfa
51   1.0*alfa  -1.0*alfa  -1.0*alfa  1.0*alfa  1.0*alfa  -1.0*alfa
59   1.0*alfa  -1.0*alfa   1.0*alfa  1.0*alfa  1.0*alfa  -1.0*alfa
Entradas correspondentes:
    A  B  C  D  E  F
3   0  0  0  0  1  1
11  0  0  1  0  1  1
51  1  1  0  0  1  1
59  1  1  1  0  1  1
Equação correspondente:
S1: A
S2: A'
S3: B
S4: 1
S5: 1
S6: 0
--------------------------------------------
As colunas 'S1' e 'S2' são diferentes e a coluna 'S5' é igual à '-1.0*alfa'
Saídas correspondentes:
           S1         S2         S3         S4         S5        S6
4   -1.0*alfa   1.0*alfa  -1.0*alfa  -1.0*alfa  -1.0*alfa  1.0*alfa
12  -1.0*alfa   1.0*alfa   1.0*alfa  -1.0*alfa  -1.0*alfa  1.0*alfa
52   1.0*alfa  -1.0*alfa  -1.0*alfa  -1.0*alfa  -1.0*alfa  1.0*alfa
60   1.0*alfa  -1.0*alfa   1.0*alfa  -1.0*alfa  -1.0*alfa  1.0*alfa
Entradas correspondentes:
    A  B  C  D  E  F
4   0  0  0  1  0  0
12  0  0  1  1  0  0
52  1  1  0  1  0  0
60  1  1  1  1  0  0
--------------------------------------------
Equação correspondente:
S1: A
S2: A'
S3: B
S4: 0
S5: 0
S6: 1
--------------------------------------------
As colunas 'S1' e 'S2' são diferentes e a coluna 'S6' é igual à '1.0*alfa'
Saídas correspondentes:
           S1         S2         S3         S4         S5        S6
4   -1.0*alfa   1.0*alfa  -1.0*alfa  -1.0*alfa  -1.0*alfa  1.0*alfa
12  -1.0*alfa   1.0*alfa   1.0*alfa  -1.0*alfa  -1.0*alfa  1.0*alfa
52   1.0*alfa  -1.0*alfa  -1.0*alfa  -1.0*alfa  -1.0*alfa  1.0*alfa
60   1.0*alfa  -1.0*alfa   1.0*alfa  -1.0*alfa  -1.0*alfa  1.0*alfa
Entradas correspondentes:
    A  B  C  D  E  F
4   0  0  0  1  0  0
12  0  0  1  1  0  0
52  1  1  0  1  0  0
60  1  1  1  1  0  0
Equação correspondente:
S1: A
S2: A'
S3: B
S4: 0
S5: 0
S6: 1
--------------------------------------------
As colunas 'S1' e 'S2' são diferentes e a coluna 'S6' é igual à '-1.0*alfa'
Saídas correspondentes:
           S1         S2         S3        S4        S5         S6
3   -1.0*alfa   1.0*alfa  -1.0*alfa  1.0*alfa  1.0*alfa  -1.0*alfa
11  -1.0*alfa   1.0*alfa   1.0*alfa  1.0*alfa  1.0*alfa  -1.0*alfa
51   1.0*alfa  -1.0*alfa  -1.0*alfa  1.0*alfa  1.0*alfa  -1.0*alfa
59   1.0*alfa  -1.0*alfa   1.0*alfa  1.0*alfa  1.0*alfa  -1.0*alfa
Entradas correspondentes:
    A  B  C  D  E  F
3   0  0  0  0  1  1
11  0  0  1  0  1  1
51  1  1  0  0  1  1
59  1  1  1  0  1  1
--------------------------------------------
Equação correspondente:
S1: A
S2: A'
S3: B
S4: 1
S5: 1
S6: 0
--------------------------------------------
Linhas onde S1 é igual a S3 nos dados de saída:
           S1         S2         S3         S4         S5         S6
3   -1.0*alfa   1.0*alfa  -1.0*alfa   1.0*alfa   1.0*alfa  -1.0*alfa
4   -1.0*alfa   1.0*alfa  -1.0*alfa  -1.0*alfa  -1.0*alfa   1.0*alfa
29   1.0*alfa   1.0*alfa   1.0*alfa  -1.0*alfa   1.0*alfa   1.0*alfa
30   1.0*alfa   1.0*alfa   1.0*alfa  -1.0*alfa  -1.0*alfa  -1.0*alfa
33  -1.0*alfa  -1.0*alfa  -1.0*alfa   1.0*alfa   1.0*alfa   1.0*alfa
34  -1.0*alfa  -1.0*alfa  -1.0*alfa   1.0*alfa  -1.0*alfa  -1.0*alfa
59   1.0*alfa  -1.0*alfa   1.0*alfa   1.0*alfa   1.0*alfa  -1.0*alfa
60   1.0*alfa  -1.0*alfa   1.0*alfa  -1.0*alfa  -1.0*alfa   1.0*alfa

Correspondentes nos dados de entrada:
    A  B  C  D  E  F
3   0  0  0  0  1  1
4   0  0  0  1  0  0
29  0  1  1  1  0  1
30  0  1  1  1  1  0
33  1  0  0  0  0  1
34  1  0  0  0  1  0
59  1  1  1  0  1  1
60  1  1  1  1  0  0
Equação correspondente:
S1: B
S2: A'
S3: B
S4: A'B'C'  + AB'C' + AB'C + ABC'
S5: C'
S6: A'B'C  + A'BC' + AB'C' + ABC
--------------------------------------------
Linhas onde S1 é igual a S4 nos dados de saída:
           S1         S2         S3         S4         S5         S6
4   -1.0*alfa   1.0*alfa  -1.0*alfa  -1.0*alfa  -1.0*alfa   1.0*alfa
12  -1.0*alfa   1.0*alfa   1.0*alfa  -1.0*alfa  -1.0*alfa   1.0*alfa
51   1.0*alfa  -1.0*alfa  -1.0*alfa   1.0*alfa   1.0*alfa  -1.0*alfa
59   1.0*alfa  -1.0*alfa   1.0*alfa   1.0*alfa   1.0*alfa  -1.0*alfa

Correspondentes nos dados de entrada:
    A  B  C  D  E  F
4   0  0  0  1  0  0
12  0  0  1  1  0  0
51  1  1  0  0  1  1
59  1  1  1  0  1  1
Equação correspondente:
S1: A
S2: A'
S3: B
S4: A
S5: A
S6: A'
--------------------------------------------
As colunas 'S1' e 'S5' são iguais e a coluna 'S2' é igual à '1.0*alfa'
Saídas correspondentes:
           S1        S2         S3         S4         S5        S6
4   -1.0*alfa  1.0*alfa  -1.0*alfa  -1.0*alfa  -1.0*alfa  1.0*alfa
12  -1.0*alfa  1.0*alfa   1.0*alfa  -1.0*alfa  -1.0*alfa  1.0*alfa
21   1.0*alfa  1.0*alfa  -1.0*alfa  -1.0*alfa   1.0*alfa  1.0*alfa
29   1.0*alfa  1.0*alfa   1.0*alfa  -1.0*alfa   1.0*alfa  1.0*alfa
Entradas correspondentes:
    A  B  C  D  E  F
4   0  0  0  1  0  0
12  0  0  1  1  0  0
21  0  1  0  1  0  1
29  0  1  1  1  0  1
Equação correspondente:
S1: A
S2: 1
S3: B
S4: 0
S5: A
S6: 1
--------------------------------------------
As colunas 'S1' e 'S5' são iguais e a coluna 'S2' é igual à '-1.0*alfa'
Saídas correspondentes:
           S1         S2         S3        S4         S5         S6
34  -1.0*alfa  -1.0*alfa  -1.0*alfa  1.0*alfa  -1.0*alfa  -1.0*alfa
42  -1.0*alfa  -1.0*alfa   1.0*alfa  1.0*alfa  -1.0*alfa  -1.0*alfa
51   1.0*alfa  -1.0*alfa  -1.0*alfa  1.0*alfa   1.0*alfa  -1.0*alfa
59   1.0*alfa  -1.0*alfa   1.0*alfa  1.0*alfa   1.0*alfa  -1.0*alfa
Entradas correspondentes:
    A  B  C  D  E  F
34  1  0  0  0  1  0
42  1  0  1  0  1  0
51  1  1  0  0  1  1
59  1  1  1  0  1  1
Equação correspondente:
S1: A
S2: 0
S3: B
S4: 1
S5: A
S6: 0
--------------------------------------------
As colunas 'S1' e 'S5' são iguais e a coluna 'S6' é igual à '1.0*alfa'
Saídas correspondentes:
           S1        S2         S3         S4         S5        S6
4   -1.0*alfa  1.0*alfa  -1.0*alfa  -1.0*alfa  -1.0*alfa  1.0*alfa
12  -1.0*alfa  1.0*alfa   1.0*alfa  -1.0*alfa  -1.0*alfa  1.0*alfa
21   1.0*alfa  1.0*alfa  -1.0*alfa  -1.0*alfa   1.0*alfa  1.0*alfa
29   1.0*alfa  1.0*alfa   1.0*alfa  -1.0*alfa   1.0*alfa  1.0*alfa
Entradas correspondentes:
    A  B  C  D  E  F
4   0  0  0  1  0  0
12  0  0  1  1  0  0
21  0  1  0  1  0  1
29  0  1  1  1  0  1
Equação correspondente:
S1: A
S2: 1
S3: B
S4: 0
S5: A
S6: 1
--------------------------------------------
As colunas 'S1' e 'S5' são iguais e a coluna 'S6' é igual à '-1.0*alfa'
Saídas correspondentes:
           S1         S2         S3        S4         S5         S6
34  -1.0*alfa  -1.0*alfa  -1.0*alfa  1.0*alfa  -1.0*alfa  -1.0*alfa
42  -1.0*alfa  -1.0*alfa   1.0*alfa  1.0*alfa  -1.0*alfa  -1.0*alfa
51   1.0*alfa  -1.0*alfa  -1.0*alfa  1.0*alfa   1.0*alfa  -1.0*alfa
59   1.0*alfa  -1.0*alfa   1.0*alfa  1.0*alfa   1.0*alfa  -1.0*alfa
Entradas correspondentes:
    A  B  C  D  E  F
34  1  0  0  0  1  0
42  1  0  1  0  1  0
51  1  1  0  0  1  1
59  1  1  1  0  1  1
Equação correspondente:
S1: A
S2: 0
S3: B
S4: 1
S5: A
S6: 0
--------------------------------------------
As colunas 'S1' e 'S5' são diferentes e a coluna 'S2' é igual à '1.0*alfa'
Saídas correspondentes:
           S1        S2         S3         S4         S5         S6
3   -1.0*alfa  1.0*alfa  -1.0*alfa   1.0*alfa   1.0*alfa  -1.0*alfa
11  -1.0*alfa  1.0*alfa   1.0*alfa   1.0*alfa   1.0*alfa  -1.0*alfa
22   1.0*alfa  1.0*alfa  -1.0*alfa  -1.0*alfa  -1.0*alfa  -1.0*alfa
30   1.0*alfa  1.0*alfa   1.0*alfa  -1.0*alfa  -1.0*alfa  -1.0*alfa
Entradas correspondentes:
    A  B  C  D  E  F
3   0  0  0  0  1  1
11  0  0  1  0  1  1
22  0  1  0  1  1  0
30  0  1  1  1  1  0
Equação correspondente:
S1: A
S2: 1
S3: B
S4: A'
S5: A'
S6: 0
--------------------------------------------
As colunas 'S1' e 'S5' são diferentes e a coluna 'S2' é igual à '-1.0*alfa'
Saídas correspondentes:
           S1         S2         S3         S4         S5        S6
33  -1.0*alfa  -1.0*alfa  -1.0*alfa   1.0*alfa   1.0*alfa  1.0*alfa
41  -1.0*alfa  -1.0*alfa   1.0*alfa   1.0*alfa   1.0*alfa  1.0*alfa
52   1.0*alfa  -1.0*alfa  -1.0*alfa  -1.0*alfa  -1.0*alfa  1.0*alfa
60   1.0*alfa  -1.0*alfa   1.0*alfa  -1.0*alfa  -1.0*alfa  1.0*alfa
Entradas correspondentes:
    A  B  C  D  E  F
33  1  0  0  0  0  1
41  1  0  1  0  0  1
52  1  1  0  1  0  0
60  1  1  1  1  0  0
--------------------------------------------
Equação correspondente:
S1: A
S2: 0
S3: B
S4: A'
S5: A'
S6: 1
--------------------------------------------
As colunas 'S1' e 'S5' são diferentes e a coluna 'S6' é igual à '1.0*alfa'
Saídas correspondentes:
           S1         S2         S3         S4         S5        S6
33  -1.0*alfa  -1.0*alfa  -1.0*alfa   1.0*alfa   1.0*alfa  1.0*alfa
41  -1.0*alfa  -1.0*alfa   1.0*alfa   1.0*alfa   1.0*alfa  1.0*alfa
52   1.0*alfa  -1.0*alfa  -1.0*alfa  -1.0*alfa  -1.0*alfa  1.0*alfa
60   1.0*alfa  -1.0*alfa   1.0*alfa  -1.0*alfa  -1.0*alfa  1.0*alfa
Entradas correspondentes:
    A  B  C  D  E  F
33  1  0  0  0  0  1
41  1  0  1  0  0  1
52  1  1  0  1  0  0
60  1  1  1  1  0  0
Equação correspondente:
S1: A
S2: 0
S3: B
S4: A'
S5: A'
S6: 1
--------------------------------------------
As colunas 'S1' e 'S5' são diferentes e a coluna 'S6' é igual à '-1.0*alfa'
Saídas correspondentes:
           S1        S2         S3         S4         S5         S6
3   -1.0*alfa  1.0*alfa  -1.0*alfa   1.0*alfa   1.0*alfa  -1.0*alfa
11  -1.0*alfa  1.0*alfa   1.0*alfa   1.0*alfa   1.0*alfa  -1.0*alfa
22   1.0*alfa  1.0*alfa  -1.0*alfa  -1.0*alfa  -1.0*alfa  -1.0*alfa
30   1.0*alfa  1.0*alfa   1.0*alfa  -1.0*alfa  -1.0*alfa  -1.0*alfa
Entradas correspondentes:
    A  B  C  D  E  F
3   0  0  0  0  1  1
11  0  0  1  0  1  1
22  0  1  0  1  1  0
30  0  1  1  1  1  0
--------------------------------------------
Equação correspondente:
S1: A
S2: 1
S3: B
S4: A'
S5: A'
S6: 0
--------------------------------------------
As colunas 'S1' e 'S6' são iguais e a coluna 'S2' é igual à '1.0*alfa'
Saídas correspondentes:
           S1        S2         S3         S4        S5         S6
3   -1.0*alfa  1.0*alfa  -1.0*alfa   1.0*alfa  1.0*alfa  -1.0*alfa
11  -1.0*alfa  1.0*alfa   1.0*alfa   1.0*alfa  1.0*alfa  -1.0*alfa
21   1.0*alfa  1.0*alfa  -1.0*alfa  -1.0*alfa  1.0*alfa   1.0*alfa
29   1.0*alfa  1.0*alfa   1.0*alfa  -1.0*alfa  1.0*alfa   1.0*alfa
Entradas correspondentes:
    A  B  C  D  E  F
3   0  0  0  0  1  1
11  0  0  1  0  1  1
21  0  1  0  1  0  1
29  0  1  1  1  0  1
Equação correspondente:
S1: A
S2: 1
S3: B
S4: A'
S5: 1
S6: A
--------------------------------------------
As colunas 'S1' e 'S6' são iguais e a coluna 'S2' é igual à '-1.0*alfa'
Saídas correspondentes:
           S1         S2         S3         S4         S5         S6
34  -1.0*alfa  -1.0*alfa  -1.0*alfa   1.0*alfa  -1.0*alfa  -1.0*alfa
42  -1.0*alfa  -1.0*alfa   1.0*alfa   1.0*alfa  -1.0*alfa  -1.0*alfa
52   1.0*alfa  -1.0*alfa  -1.0*alfa  -1.0*alfa  -1.0*alfa   1.0*alfa
60   1.0*alfa  -1.0*alfa   1.0*alfa  -1.0*alfa  -1.0*alfa   1.0*alfa
Entradas correspondentes:
    A  B  C  D  E  F
34  1  0  0  0  1  0
42  1  0  1  0  1  0
52  1  1  0  1  0  0
60  1  1  1  1  0  0
Equação correspondente:
S1: A
S2: 0
S3: B
S4: A'
S5: 0
S6: A
--------------------------------------------
As colunas 'S1' e 'S6' são iguais e a coluna 'S5' é igual à '1.0*alfa'
Saídas correspondentes:
           S1        S2         S3         S4        S5         S6
3   -1.0*alfa  1.0*alfa  -1.0*alfa   1.0*alfa  1.0*alfa  -1.0*alfa
11  -1.0*alfa  1.0*alfa   1.0*alfa   1.0*alfa  1.0*alfa  -1.0*alfa
21   1.0*alfa  1.0*alfa  -1.0*alfa  -1.0*alfa  1.0*alfa   1.0*alfa
29   1.0*alfa  1.0*alfa   1.0*alfa  -1.0*alfa  1.0*alfa   1.0*alfa
Entradas correspondentes:
    A  B  C  D  E  F
3   0  0  0  0  1  1
11  0  0  1  0  1  1
21  0  1  0  1  0  1
29  0  1  1  1  0  1
Equação correspondente:
S1: A
S2: 1
S3: B
S4: A'
S5: 1
S6: A
--------------------------------------------
As colunas 'S1' e 'S6' são iguais e a coluna 'S5' é igual à '-1.0*alfa'
Saídas correspondentes:
           S1         S2         S3         S4         S5         S6
34  -1.0*alfa  -1.0*alfa  -1.0*alfa   1.0*alfa  -1.0*alfa  -1.0*alfa
42  -1.0*alfa  -1.0*alfa   1.0*alfa   1.0*alfa  -1.0*alfa  -1.0*alfa
52   1.0*alfa  -1.0*alfa  -1.0*alfa  -1.0*alfa  -1.0*alfa   1.0*alfa
60   1.0*alfa  -1.0*alfa   1.0*alfa  -1.0*alfa  -1.0*alfa   1.0*alfa
Entradas correspondentes:
    A  B  C  D  E  F
34  1  0  0  0  1  0
42  1  0  1  0  1  0
52  1  1  0  1  0  0
60  1  1  1  1  0  0
Equação correspondente:
S1: A
S2: 0
S3: B
S4: A'
S5: 0
S6: A
--------------------------------------------
As colunas 'S1' e 'S6' são diferentes e a coluna 'S2' é igual à '1.0*alfa'
Saídas correspondentes:
           S1        S2         S3         S4         S5         S6
4   -1.0*alfa  1.0*alfa  -1.0*alfa  -1.0*alfa  -1.0*alfa   1.0*alfa
12  -1.0*alfa  1.0*alfa   1.0*alfa  -1.0*alfa  -1.0*alfa   1.0*alfa
22   1.0*alfa  1.0*alfa  -1.0*alfa  -1.0*alfa  -1.0*alfa  -1.0*alfa
30   1.0*alfa  1.0*alfa   1.0*alfa  -1.0*alfa  -1.0*alfa  -1.0*alfa
Entradas correspondentes:
    A  B  C  D  E  F
4   0  0  0  1  0  0
12  0  0  1  1  0  0
22  0  1  0  1  1  0
30  0  1  1  1  1  0
Equação correspondente:
S1: A
S2: 1
S3: B
S4: 0
S5: 0
S6: A'
--------------------------------------------
As colunas 'S1' e 'S6' são diferentes e a coluna 'S2' é igual à '-1.0*alfa'
Saídas correspondentes:
           S1         S2         S3        S4        S5         S6
33  -1.0*alfa  -1.0*alfa  -1.0*alfa  1.0*alfa  1.0*alfa   1.0*alfa
41  -1.0*alfa  -1.0*alfa   1.0*alfa  1.0*alfa  1.0*alfa   1.0*alfa
51   1.0*alfa  -1.0*alfa  -1.0*alfa  1.0*alfa  1.0*alfa  -1.0*alfa
59   1.0*alfa  -1.0*alfa   1.0*alfa  1.0*alfa  1.0*alfa  -1.0*alfa
Entradas correspondentes:
    A  B  C  D  E  F
33  1  0  0  0  0  1
41  1  0  1  0  0  1
51  1  1  0  0  1  1
59  1  1  1  0  1  1
--------------------------------------------
Equação correspondente:
S1: A
S2: 0
S3: B
S4: 1
S5: 1
S6: A'
--------------------------------------------
As colunas 'S1' e 'S6' são diferentes e a coluna 'S5' é igual à '1.0*alfa'
Saídas correspondentes:
           S1         S2         S3        S4        S5         S6
33  -1.0*alfa  -1.0*alfa  -1.0*alfa  1.0*alfa  1.0*alfa   1.0*alfa
41  -1.0*alfa  -1.0*alfa   1.0*alfa  1.0*alfa  1.0*alfa   1.0*alfa
51   1.0*alfa  -1.0*alfa  -1.0*alfa  1.0*alfa  1.0*alfa  -1.0*alfa
59   1.0*alfa  -1.0*alfa   1.0*alfa  1.0*alfa  1.0*alfa  -1.0*alfa
Entradas correspondentes:
    A  B  C  D  E  F
33  1  0  0  0  0  1
41  1  0  1  0  0  1
51  1  1  0  0  1  1
59  1  1  1  0  1  1
Equação correspondente:
S1: A
S2: 0
S3: B
S4: 1
S5: 1
S6: A'
--------------------------------------------
As colunas 'S1' e 'S6' são diferentes e a coluna 'S5' é igual à '-1.0*alfa'
Saídas correspondentes:
           S1        S2         S3         S4         S5         S6
4   -1.0*alfa  1.0*alfa  -1.0*alfa  -1.0*alfa  -1.0*alfa   1.0*alfa
12  -1.0*alfa  1.0*alfa   1.0*alfa  -1.0*alfa  -1.0*alfa   1.0*alfa
22   1.0*alfa  1.0*alfa  -1.0*alfa  -1.0*alfa  -1.0*alfa  -1.0*alfa
30   1.0*alfa  1.0*alfa   1.0*alfa  -1.0*alfa  -1.0*alfa  -1.0*alfa
Entradas correspondentes:
    A  B  C  D  E  F
4   0  0  0  1  0  0
12  0  0  1  1  0  0
22  0  1  0  1  1  0
30  0  1  1  1  1  0
--------------------------------------------
Equação correspondente:
S1: A
S2: 1
S3: B
S4: 0
S5: 0
S6: A'
--------------------------------------------
Linhas onde S2 é igual a S3 nos dados de saída:
           S1         S2         S3         S4         S5         S6
11  -1.0*alfa   1.0*alfa   1.0*alfa   1.0*alfa   1.0*alfa  -1.0*alfa
12  -1.0*alfa   1.0*alfa   1.0*alfa  -1.0*alfa  -1.0*alfa   1.0*alfa
29   1.0*alfa   1.0*alfa   1.0*alfa  -1.0*alfa   1.0*alfa   1.0*alfa
30   1.0*alfa   1.0*alfa   1.0*alfa  -1.0*alfa  -1.0*alfa  -1.0*alfa
33  -1.0*alfa  -1.0*alfa  -1.0*alfa   1.0*alfa   1.0*alfa   1.0*alfa
34  -1.0*alfa  -1.0*alfa  -1.0*alfa   1.0*alfa  -1.0*alfa  -1.0*alfa
51   1.0*alfa  -1.0*alfa  -1.0*alfa   1.0*alfa   1.0*alfa  -1.0*alfa
52   1.0*alfa  -1.0*alfa  -1.0*alfa  -1.0*alfa  -1.0*alfa   1.0*alfa

Correspondentes nos dados de entrada:
    A  B  C  D  E  F
11  0  0  1  0  1  1
12  0  0  1  1  0  0
29  0  1  1  1  0  1
30  0  1  1  1  1  0
33  1  0  0  0  0  1
34  1  0  0  0  1  0
51  1  1  0  0  1  1
52  1  1  0  1  0  0
Equação correspondente:
S1: B
S2: A'
S3: A'
S4: A'B'C'  + AB'C' + AB'C + ABC'
S5: C'
S6: A'B'C  + A'BC' + AB'C' + ABC
--------------------------------------------
Linhas onde S2 é igual a S4 nos dados de saída:
           S1         S2         S3         S4         S5         S6
3   -1.0*alfa   1.0*alfa  -1.0*alfa   1.0*alfa   1.0*alfa  -1.0*alfa
11  -1.0*alfa   1.0*alfa   1.0*alfa   1.0*alfa   1.0*alfa  -1.0*alfa
52   1.0*alfa  -1.0*alfa  -1.0*alfa  -1.0*alfa  -1.0*alfa   1.0*alfa
60   1.0*alfa  -1.0*alfa   1.0*alfa  -1.0*alfa  -1.0*alfa   1.0*alfa

Correspondentes nos dados de entrada:
    A  B  C  D  E  F
3   0  0  0  0  1  1
11  0  0  1  0  1  1
52  1  1  0  1  0  0
60  1  1  1  1  0  0
Equação correspondente:
S1: A
S2: A'
S3: B
S4: A'
S5: A'
S6: A
--------------------------------------------
As colunas 'S2' e 'S5' são iguais e a coluna 'S1' é igual à '1.0*alfa'
Saídas correspondentes:
          S1         S2         S3         S4         S5        S6
21  1.0*alfa   1.0*alfa  -1.0*alfa  -1.0*alfa   1.0*alfa  1.0*alfa
29  1.0*alfa   1.0*alfa   1.0*alfa  -1.0*alfa   1.0*alfa  1.0*alfa
52  1.0*alfa  -1.0*alfa  -1.0*alfa  -1.0*alfa  -1.0*alfa  1.0*alfa
60  1.0*alfa  -1.0*alfa   1.0*alfa  -1.0*alfa  -1.0*alfa  1.0*alfa
Entradas correspondentes:
    A  B  C  D  E  F
21  0  1  0  1  0  1
29  0  1  1  1  0  1
52  1  1  0  1  0  0
60  1  1  1  1  0  0
Equação correspondente:
S1: 1
S2: A'
S3: B
S4: 0
S5: A'
S6: 1
--------------------------------------------
As colunas 'S2' e 'S5' são iguais e a coluna 'S1' é igual à '-1.0*alfa'
Saídas correspondentes:
           S1         S2         S3        S4         S5         S6
3   -1.0*alfa   1.0*alfa  -1.0*alfa  1.0*alfa   1.0*alfa  -1.0*alfa
11  -1.0*alfa   1.0*alfa   1.0*alfa  1.0*alfa   1.0*alfa  -1.0*alfa
34  -1.0*alfa  -1.0*alfa  -1.0*alfa  1.0*alfa  -1.0*alfa  -1.0*alfa
42  -1.0*alfa  -1.0*alfa   1.0*alfa  1.0*alfa  -1.0*alfa  -1.0*alfa
Entradas correspondentes:
    A  B  C  D  E  F
3   0  0  0  0  1  1
11  0  0  1  0  1  1
34  1  0  0  0  1  0
42  1  0  1  0  1  0
Equação correspondente:
S1: 0
S2: A'
S3: B
S4: 1
S5: A'
S6: 0
--------------------------------------------
As colunas 'S2' e 'S5' são iguais e a coluna 'S6' é igual à '1.0*alfa'
Saídas correspondentes:
          S1         S2         S3         S4         S5        S6
21  1.0*alfa   1.0*alfa  -1.0*alfa  -1.0*alfa   1.0*alfa  1.0*alfa
29  1.0*alfa   1.0*alfa   1.0*alfa  -1.0*alfa   1.0*alfa  1.0*alfa
52  1.0*alfa  -1.0*alfa  -1.0*alfa  -1.0*alfa  -1.0*alfa  1.0*alfa
60  1.0*alfa  -1.0*alfa   1.0*alfa  -1.0*alfa  -1.0*alfa  1.0*alfa
Entradas correspondentes:
    A  B  C  D  E  F
21  0  1  0  1  0  1
29  0  1  1  1  0  1
52  1  1  0  1  0  0
60  1  1  1  1  0  0
Equação correspondente:
S1: 1
S2: A'
S3: B
S4: 0
S5: A'
S6: 1
--------------------------------------------
As colunas 'S2' e 'S5' são iguais e a coluna 'S6' é igual à '-1.0*alfa'
Saídas correspondentes:
           S1         S2         S3        S4         S5         S6
3   -1.0*alfa   1.0*alfa  -1.0*alfa  1.0*alfa   1.0*alfa  -1.0*alfa
11  -1.0*alfa   1.0*alfa   1.0*alfa  1.0*alfa   1.0*alfa  -1.0*alfa
34  -1.0*alfa  -1.0*alfa  -1.0*alfa  1.0*alfa  -1.0*alfa  -1.0*alfa
42  -1.0*alfa  -1.0*alfa   1.0*alfa  1.0*alfa  -1.0*alfa  -1.0*alfa
Entradas correspondentes:
    A  B  C  D  E  F
3   0  0  0  0  1  1
11  0  0  1  0  1  1
34  1  0  0  0  1  0
42  1  0  1  0  1  0
Equação correspondente:
S1: 0
S2: A'
S3: B
S4: 1
S5: A'
S6: 0
--------------------------------------------
As colunas 'S2' e 'S5' são diferentes e a coluna 'S1' é igual à '1.0*alfa'
Saídas correspondentes:
          S1         S2         S3         S4         S5         S6
22  1.0*alfa   1.0*alfa  -1.0*alfa  -1.0*alfa  -1.0*alfa  -1.0*alfa
30  1.0*alfa   1.0*alfa   1.0*alfa  -1.0*alfa  -1.0*alfa  -1.0*alfa
51  1.0*alfa  -1.0*alfa  -1.0*alfa   1.0*alfa   1.0*alfa  -1.0*alfa
59  1.0*alfa  -1.0*alfa   1.0*alfa   1.0*alfa   1.0*alfa  -1.0*alfa
Entradas correspondentes:
    A  B  C  D  E  F
22  0  1  0  1  1  0
30  0  1  1  1  1  0
51  1  1  0  0  1  1
59  1  1  1  0  1  1
Equação correspondente:
S1: 1
S2: A'
S3: B
S4: A
S5: A
S6: 0
--------------------------------------------
As colunas 'S2' e 'S5' são diferentes e a coluna 'S1' é igual à '-1.0*alfa'
Saídas correspondentes:
           S1         S2         S3         S4         S5        S6
4   -1.0*alfa   1.0*alfa  -1.0*alfa  -1.0*alfa  -1.0*alfa  1.0*alfa
12  -1.0*alfa   1.0*alfa   1.0*alfa  -1.0*alfa  -1.0*alfa  1.0*alfa
33  -1.0*alfa  -1.0*alfa  -1.0*alfa   1.0*alfa   1.0*alfa  1.0*alfa
41  -1.0*alfa  -1.0*alfa   1.0*alfa   1.0*alfa   1.0*alfa  1.0*alfa
Entradas correspondentes:
    A  B  C  D  E  F
4   0  0  0  1  0  0
12  0  0  1  1  0  0
33  1  0  0  0  0  1
41  1  0  1  0  0  1
--------------------------------------------
Equação correspondente:
S1: 0
S2: A'
S3: B
S4: A
S5: A
S6: 1
--------------------------------------------
As colunas 'S2' e 'S5' são diferentes e a coluna 'S6' é igual à '1.0*alfa'
Saídas correspondentes:
           S1         S2         S3         S4         S5        S6
4   -1.0*alfa   1.0*alfa  -1.0*alfa  -1.0*alfa  -1.0*alfa  1.0*alfa
12  -1.0*alfa   1.0*alfa   1.0*alfa  -1.0*alfa  -1.0*alfa  1.0*alfa
33  -1.0*alfa  -1.0*alfa  -1.0*alfa   1.0*alfa   1.0*alfa  1.0*alfa
41  -1.0*alfa  -1.0*alfa   1.0*alfa   1.0*alfa   1.0*alfa  1.0*alfa
Entradas correspondentes:
    A  B  C  D  E  F
4   0  0  0  1  0  0
12  0  0  1  1  0  0
33  1  0  0  0  0  1
41  1  0  1  0  0  1
Equação correspondente:
S1: 0
S2: A'
S3: B
S4: A
S5: A
S6: 1
--------------------------------------------
As colunas 'S2' e 'S5' são diferentes e a coluna 'S6' é igual à '-1.0*alfa'
Saídas correspondentes:
          S1         S2         S3         S4         S5         S6
22  1.0*alfa   1.0*alfa  -1.0*alfa  -1.0*alfa  -1.0*alfa  -1.0*alfa
30  1.0*alfa   1.0*alfa   1.0*alfa  -1.0*alfa  -1.0*alfa  -1.0*alfa
51  1.0*alfa  -1.0*alfa  -1.0*alfa   1.0*alfa   1.0*alfa  -1.0*alfa
59  1.0*alfa  -1.0*alfa   1.0*alfa   1.0*alfa   1.0*alfa  -1.0*alfa
Entradas correspondentes:
    A  B  C  D  E  F
22  0  1  0  1  1  0
30  0  1  1  1  1  0
51  1  1  0  0  1  1
59  1  1  1  0  1  1
--------------------------------------------
Equação correspondente:
S1: 1
S2: A'
S3: B
S4: A
S5: A
S6: 0
--------------------------------------------
As colunas 'S2' e 'S6' são iguais e a coluna 'S1' é igual à '1.0*alfa'
Saídas correspondentes:
          S1         S2         S3         S4        S5         S6
21  1.0*alfa   1.0*alfa  -1.0*alfa  -1.0*alfa  1.0*alfa   1.0*alfa
29  1.0*alfa   1.0*alfa   1.0*alfa  -1.0*alfa  1.0*alfa   1.0*alfa
51  1.0*alfa  -1.0*alfa  -1.0*alfa   1.0*alfa  1.0*alfa  -1.0*alfa
59  1.0*alfa  -1.0*alfa   1.0*alfa   1.0*alfa  1.0*alfa  -1.0*alfa
Entradas correspondentes:
    A  B  C  D  E  F
21  0  1  0  1  0  1
29  0  1  1  1  0  1
51  1  1  0  0  1  1
59  1  1  1  0  1  1
Equação correspondente:
S1: 1
S2: A'
S3: B
S4: A
S5: 1
S6: A'
--------------------------------------------
As colunas 'S2' e 'S6' são iguais e a coluna 'S1' é igual à '-1.0*alfa'
Saídas correspondentes:
           S1         S2         S3         S4         S5         S6
4   -1.0*alfa   1.0*alfa  -1.0*alfa  -1.0*alfa  -1.0*alfa   1.0*alfa
12  -1.0*alfa   1.0*alfa   1.0*alfa  -1.0*alfa  -1.0*alfa   1.0*alfa
34  -1.0*alfa  -1.0*alfa  -1.0*alfa   1.0*alfa  -1.0*alfa  -1.0*alfa
42  -1.0*alfa  -1.0*alfa   1.0*alfa   1.0*alfa  -1.0*alfa  -1.0*alfa
Entradas correspondentes:
    A  B  C  D  E  F
4   0  0  0  1  0  0
12  0  0  1  1  0  0
34  1  0  0  0  1  0
42  1  0  1  0  1  0
Equação correspondente:
S1: 0
S2: A'
S3: B
S4: A
S5: 0
S6: A'
--------------------------------------------
As colunas 'S2' e 'S6' são iguais e a coluna 'S5' é igual à '1.0*alfa'
Saídas correspondentes:
          S1         S2         S3         S4        S5         S6
21  1.0*alfa   1.0*alfa  -1.0*alfa  -1.0*alfa  1.0*alfa   1.0*alfa
29  1.0*alfa   1.0*alfa   1.0*alfa  -1.0*alfa  1.0*alfa   1.0*alfa
51  1.0*alfa  -1.0*alfa  -1.0*alfa   1.0*alfa  1.0*alfa  -1.0*alfa
59  1.0*alfa  -1.0*alfa   1.0*alfa   1.0*alfa  1.0*alfa  -1.0*alfa
Entradas correspondentes:
    A  B  C  D  E  F
21  0  1  0  1  0  1
29  0  1  1  1  0  1
51  1  1  0  0  1  1
59  1  1  1  0  1  1
Equação correspondente:
S1: 1
S2: A'
S3: B
S4: A
S5: 1
S6: A'
--------------------------------------------
As colunas 'S2' e 'S6' são iguais e a coluna 'S5' é igual à '-1.0*alfa'
Saídas correspondentes:
           S1         S2         S3         S4         S5         S6
4   -1.0*alfa   1.0*alfa  -1.0*alfa  -1.0*alfa  -1.0*alfa   1.0*alfa
12  -1.0*alfa   1.0*alfa   1.0*alfa  -1.0*alfa  -1.0*alfa   1.0*alfa
34  -1.0*alfa  -1.0*alfa  -1.0*alfa   1.0*alfa  -1.0*alfa  -1.0*alfa
42  -1.0*alfa  -1.0*alfa   1.0*alfa   1.0*alfa  -1.0*alfa  -1.0*alfa
Entradas correspondentes:
    A  B  C  D  E  F
4   0  0  0  1  0  0
12  0  0  1  1  0  0
34  1  0  0  0  1  0
42  1  0  1  0  1  0
Equação correspondente:
S1: 0
S2: A'
S3: B
S4: A
S5: 0
S6: A'
--------------------------------------------
As colunas 'S2' e 'S6' são diferentes e a coluna 'S1' é igual à '1.0*alfa'
Saídas correspondentes:
          S1         S2         S3         S4         S5         S6
22  1.0*alfa   1.0*alfa  -1.0*alfa  -1.0*alfa  -1.0*alfa  -1.0*alfa
30  1.0*alfa   1.0*alfa   1.0*alfa  -1.0*alfa  -1.0*alfa  -1.0*alfa
52  1.0*alfa  -1.0*alfa  -1.0*alfa  -1.0*alfa  -1.0*alfa   1.0*alfa
60  1.0*alfa  -1.0*alfa   1.0*alfa  -1.0*alfa  -1.0*alfa   1.0*alfa
Entradas correspondentes:
    A  B  C  D  E  F
22  0  1  0  1  1  0
30  0  1  1  1  1  0
52  1  1  0  1  0  0
60  1  1  1  1  0  0
Equação correspondente:
S1: 1
S2: A'
S3: B
S4: 0
S5: 0
S6: A
--------------------------------------------
As colunas 'S2' e 'S6' são diferentes e a coluna 'S1' é igual à '-1.0*alfa'
Saídas correspondentes:
           S1         S2         S3        S4        S5         S6
3   -1.0*alfa   1.0*alfa  -1.0*alfa  1.0*alfa  1.0*alfa  -1.0*alfa
11  -1.0*alfa   1.0*alfa   1.0*alfa  1.0*alfa  1.0*alfa  -1.0*alfa
33  -1.0*alfa  -1.0*alfa  -1.0*alfa  1.0*alfa  1.0*alfa   1.0*alfa
41  -1.0*alfa  -1.0*alfa   1.0*alfa  1.0*alfa  1.0*alfa   1.0*alfa
Entradas correspondentes:
    A  B  C  D  E  F
3   0  0  0  0  1  1
11  0  0  1  0  1  1
33  1  0  0  0  0  1
41  1  0  1  0  0  1
--------------------------------------------
Equação correspondente:
S1: 0
S2: A'
S3: B
S4: 1
S5: 1
S6: A
--------------------------------------------
As colunas 'S2' e 'S6' são diferentes e a coluna 'S5' é igual à '1.0*alfa'
Saídas correspondentes:
           S1         S2         S3        S4        S5         S6
3   -1.0*alfa   1.0*alfa  -1.0*alfa  1.0*alfa  1.0*alfa  -1.0*alfa
11  -1.0*alfa   1.0*alfa   1.0*alfa  1.0*alfa  1.0*alfa  -1.0*alfa
33  -1.0*alfa  -1.0*alfa  -1.0*alfa  1.0*alfa  1.0*alfa   1.0*alfa
41  -1.0*alfa  -1.0*alfa   1.0*alfa  1.0*alfa  1.0*alfa   1.0*alfa
Entradas correspondentes:
    A  B  C  D  E  F
3   0  0  0  0  1  1
11  0  0  1  0  1  1
33  1  0  0  0  0  1
41  1  0  1  0  0  1
Equação correspondente:
S1: 0
S2: A'
S3: B
S4: 1
S5: 1
S6: A
--------------------------------------------
As colunas 'S2' e 'S6' são diferentes e a coluna 'S5' é igual à '-1.0*alfa'
Saídas correspondentes:
          S1         S2         S3         S4         S5         S6
22  1.0*alfa   1.0*alfa  -1.0*alfa  -1.0*alfa  -1.0*alfa  -1.0*alfa
30  1.0*alfa   1.0*alfa   1.0*alfa  -1.0*alfa  -1.0*alfa  -1.0*alfa
52  1.0*alfa  -1.0*alfa  -1.0*alfa  -1.0*alfa  -1.0*alfa   1.0*alfa
60  1.0*alfa  -1.0*alfa   1.0*alfa  -1.0*alfa  -1.0*alfa   1.0*alfa
Entradas correspondentes:
    A  B  C  D  E  F
22  0  1  0  1  1  0
30  0  1  1  1  1  0
52  1  1  0  1  0  0
60  1  1  1  1  0  0
--------------------------------------------
Equação correspondente:
S1: 1
S2: A'
S3: B
S4: 0
S5: 0
S6: A
--------------------------------------------
As colunas 'S3' e 'S4' são iguais e a coluna 'S1' é igual à '1.0*alfa'
Saídas correspondentes:
          S1         S2         S3         S4         S5         S6
21  1.0*alfa   1.0*alfa  -1.0*alfa  -1.0*alfa   1.0*alfa   1.0*alfa
22  1.0*alfa   1.0*alfa  -1.0*alfa  -1.0*alfa  -1.0*alfa  -1.0*alfa
52  1.0*alfa  -1.0*alfa  -1.0*alfa  -1.0*alfa  -1.0*alfa   1.0*alfa
59  1.0*alfa  -1.0*alfa   1.0*alfa   1.0*alfa   1.0*alfa  -1.0*alfa
Entradas correspondentes:
    A  B  C  D  E  F
21  0  1  0  1  0  1
22  0  1  0  1  1  0
52  1  1  0  1  0  0
59  1  1  1  0  1  1
Equação correspondente:
S1: 1
S2: A'
S3: AB
S4: AB
S5: A'B' + AB
S6: B'
--------------------------------------------
As colunas 'S3' e 'S4' são iguais e a coluna 'S1' é igual à '-1.0*alfa'
Saídas correspondentes:
           S1         S2         S3         S4         S5         S6
4   -1.0*alfa   1.0*alfa  -1.0*alfa  -1.0*alfa  -1.0*alfa   1.0*alfa
11  -1.0*alfa   1.0*alfa   1.0*alfa   1.0*alfa   1.0*alfa  -1.0*alfa
41  -1.0*alfa  -1.0*alfa   1.0*alfa   1.0*alfa   1.0*alfa   1.0*alfa
42  -1.0*alfa  -1.0*alfa   1.0*alfa   1.0*alfa  -1.0*alfa  -1.0*alfa
Entradas correspondentes:
    A  B  C  D  E  F
4   0  0  0  1  0  0
11  0  0  1  0  1  1
41  1  0  1  0  0  1
42  1  0  1  0  1  0
Equação correspondente:
S1: 0
S2: A'
S3: A'B + AB' + AB
S4: A'B + AB' + AB
S5: A'B + AB'
S6: B'
--------------------------------------------
As colunas 'S3' e 'S4' são iguais e a coluna 'S2' é igual à '1.0*alfa'
Saídas correspondentes:
           S1        S2         S3         S4         S5         S6
4   -1.0*alfa  1.0*alfa  -1.0*alfa  -1.0*alfa  -1.0*alfa   1.0*alfa
11  -1.0*alfa  1.0*alfa   1.0*alfa   1.0*alfa   1.0*alfa  -1.0*alfa
21   1.0*alfa  1.0*alfa  -1.0*alfa  -1.0*alfa   1.0*alfa   1.0*alfa
22   1.0*alfa  1.0*alfa  -1.0*alfa  -1.0*alfa  -1.0*alfa  -1.0*alfa
Entradas correspondentes:
    A  B  C  D  E  F
4   0  0  0  1  0  0
11  0  0  1  0  1  1
21  0  1  0  1  0  1
22  0  1  0  1  1  0
Equação correspondente:
S1: A
S2: 1
S3: A'B
S4: A'B
S5: A'B + AB'
S6: B'
--------------------------------------------
As colunas 'S3' e 'S4' são iguais e a coluna 'S2' é igual à '-1.0*alfa'
Saídas correspondentes:
           S1         S2         S3         S4         S5         S6
41  -1.0*alfa  -1.0*alfa   1.0*alfa   1.0*alfa   1.0*alfa   1.0*alfa
42  -1.0*alfa  -1.0*alfa   1.0*alfa   1.0*alfa  -1.0*alfa  -1.0*alfa
52   1.0*alfa  -1.0*alfa  -1.0*alfa  -1.0*alfa  -1.0*alfa   1.0*alfa
59   1.0*alfa  -1.0*alfa   1.0*alfa   1.0*alfa   1.0*alfa  -1.0*alfa
Entradas correspondentes:
    A  B  C  D  E  F
41  1  0  1  0  0  1
42  1  0  1  0  1  0
52  1  1  0  1  0  0
59  1  1  1  0  1  1
Equação correspondente:
S1: A
S2: 0
S3: A'B' + A'B + AB
S4: A'B' + A'B + AB
S5: A'B' + AB
S6: B'
--------------------------------------------
As colunas 'S3' e 'S4' são iguais e a coluna 'S5' é igual à '1.0*alfa'
Saídas correspondentes:
           S1         S2         S3         S4        S5         S6
11  -1.0*alfa   1.0*alfa   1.0*alfa   1.0*alfa  1.0*alfa  -1.0*alfa
21   1.0*alfa   1.0*alfa  -1.0*alfa  -1.0*alfa  1.0*alfa   1.0*alfa
41  -1.0*alfa  -1.0*alfa   1.0*alfa   1.0*alfa  1.0*alfa   1.0*alfa
59   1.0*alfa  -1.0*alfa   1.0*alfa   1.0*alfa  1.0*alfa  -1.0*alfa
Entradas correspondentes:
    A  B  C  D  E  F
11  0  0  1  0  1  1
21  0  1  0  1  0  1
41  1  0  1  0  0  1
59  1  1  1  0  1  1
Equação correspondente:
S1: B
S2: A'
S3: A'B' + AB' + AB
S4: A'B' + AB' + AB
S5: 1
S6: A'B + AB'
--------------------------------------------
As colunas 'S3' e 'S4' são iguais e a coluna 'S5' é igual à '-1.0*alfa'
Saídas correspondentes:
           S1         S2         S3         S4         S5         S6
4   -1.0*alfa   1.0*alfa  -1.0*alfa  -1.0*alfa  -1.0*alfa   1.0*alfa
22   1.0*alfa   1.0*alfa  -1.0*alfa  -1.0*alfa  -1.0*alfa  -1.0*alfa
42  -1.0*alfa  -1.0*alfa   1.0*alfa   1.0*alfa  -1.0*alfa  -1.0*alfa
52   1.0*alfa  -1.0*alfa  -1.0*alfa  -1.0*alfa  -1.0*alfa   1.0*alfa
Entradas correspondentes:
    A  B  C  D  E  F
4   0  0  0  1  0  0
22  0  1  0  1  1  0
42  1  0  1  0  1  0
52  1  1  0  1  0  0
Equação correspondente:
S1: B
S2: A'
S3: AB'
S4: AB'
S5: 0
S6: A'B' + AB
--------------------------------------------
As colunas 'S3' e 'S4' são iguais e a coluna 'S6' é igual à '1.0*alfa'
Saídas correspondentes:
           S1         S2         S3         S4         S5        S6
4   -1.0*alfa   1.0*alfa  -1.0*alfa  -1.0*alfa  -1.0*alfa  1.0*alfa
21   1.0*alfa   1.0*alfa  -1.0*alfa  -1.0*alfa   1.0*alfa  1.0*alfa
41  -1.0*alfa  -1.0*alfa   1.0*alfa   1.0*alfa   1.0*alfa  1.0*alfa
52   1.0*alfa  -1.0*alfa  -1.0*alfa  -1.0*alfa  -1.0*alfa  1.0*alfa
Entradas correspondentes:
    A  B  C  D  E  F
4   0  0  0  1  0  0
21  0  1  0  1  0  1
41  1  0  1  0  0  1
52  1  1  0  1  0  0
Equação correspondente:
S1: B
S2: A'
S3: AB'
S4: AB'
S5: A'B + AB'
S6: 1
--------------------------------------------
As colunas 'S3' e 'S4' são iguais e a coluna 'S6' é igual à '-1.0*alfa'
Saídas correspondentes:
           S1         S2         S3         S4         S5         S6
11  -1.0*alfa   1.0*alfa   1.0*alfa   1.0*alfa   1.0*alfa  -1.0*alfa
22   1.0*alfa   1.0*alfa  -1.0*alfa  -1.0*alfa  -1.0*alfa  -1.0*alfa
42  -1.0*alfa  -1.0*alfa   1.0*alfa   1.0*alfa  -1.0*alfa  -1.0*alfa
59   1.0*alfa  -1.0*alfa   1.0*alfa   1.0*alfa   1.0*alfa  -1.0*alfa
Entradas correspondentes:
    A  B  C  D  E  F
11  0  0  1  0  1  1
22  0  1  0  1  1  0
42  1  0  1  0  1  0
59  1  1  1  0  1  1
Equação correspondente:
S1: B
S2: A'
S3: A'B' + AB' + AB
S4: A'B' + AB' + AB
S5: A'B' + AB
S6: 0
--------------------------------------------
As colunas 'S3' e 'S4' são diferentes e a coluna 'S1' é igual à '1.0*alfa'
Saídas correspondentes:
          S1         S2         S3         S4         S5         S6
29  1.0*alfa   1.0*alfa   1.0*alfa  -1.0*alfa   1.0*alfa   1.0*alfa
30  1.0*alfa   1.0*alfa   1.0*alfa  -1.0*alfa  -1.0*alfa  -1.0*alfa
51  1.0*alfa  -1.0*alfa  -1.0*alfa   1.0*alfa   1.0*alfa  -1.0*alfa
60  1.0*alfa  -1.0*alfa   1.0*alfa  -1.0*alfa  -1.0*alfa   1.0*alfa
Entradas correspondentes:
    A  B  C  D  E  F
29  0  1  1  1  0  1
30  0  1  1  1  1  0
51  1  1  0  0  1  1
60  1  1  1  1  0  0
Equação correspondente:
S1: 1
S2: A'
S3: A'B' + A'B + AB
S4: AB'
S5: B'
S6: A'B' + AB
--------------------------------------------
As colunas 'S3' e 'S4' são diferentes e a coluna 'S1' é igual à '-1.0*alfa'
Saídas correspondentes:
           S1         S2         S3         S4         S5         S6
3   -1.0*alfa   1.0*alfa  -1.0*alfa   1.0*alfa   1.0*alfa  -1.0*alfa
12  -1.0*alfa   1.0*alfa   1.0*alfa  -1.0*alfa  -1.0*alfa   1.0*alfa
33  -1.0*alfa  -1.0*alfa  -1.0*alfa   1.0*alfa   1.0*alfa   1.0*alfa
34  -1.0*alfa  -1.0*alfa  -1.0*alfa   1.0*alfa  -1.0*alfa  -1.0*alfa
Entradas correspondentes:
    A  B  C  D  E  F
3   0  0  0  0  1  1
12  0  0  1  1  0  0
33  1  0  0  0  0  1
34  1  0  0  0  1  0
--------------------------------------------
Equação correspondente:
S1: 0
S2: A'
S3: A'B
S4: A'B' + AB' + AB
S5: B'
S6: A'B + AB'
--------------------------------------------
As colunas 'S3' e 'S4' são diferentes e a coluna 'S2' é igual à '1.0*alfa'
Saídas correspondentes:
           S1        S2         S3         S4         S5         S6
3   -1.0*alfa  1.0*alfa  -1.0*alfa   1.0*alfa   1.0*alfa  -1.0*alfa
12  -1.0*alfa  1.0*alfa   1.0*alfa  -1.0*alfa  -1.0*alfa   1.0*alfa
29   1.0*alfa  1.0*alfa   1.0*alfa  -1.0*alfa   1.0*alfa   1.0*alfa
30   1.0*alfa  1.0*alfa   1.0*alfa  -1.0*alfa  -1.0*alfa  -1.0*alfa
Entradas correspondentes:
    A  B  C  D  E  F
3   0  0  0  0  1  1
12  0  0  1  1  0  0
29  0  1  1  1  0  1
30  0  1  1  1  1  0
Equação correspondente:
S1: A
S2: 1
S3: A'B + AB' + AB
S4: A'B'
S5: B'
S6: A'B + AB'
--------------------------------------------
As colunas 'S3' e 'S4' são diferentes e a coluna 'S2' é igual à '-1.0*alfa'
Saídas correspondentes:
           S1         S2         S3         S4         S5         S6
33  -1.0*alfa  -1.0*alfa  -1.0*alfa   1.0*alfa   1.0*alfa   1.0*alfa
34  -1.0*alfa  -1.0*alfa  -1.0*alfa   1.0*alfa  -1.0*alfa  -1.0*alfa
51   1.0*alfa  -1.0*alfa  -1.0*alfa   1.0*alfa   1.0*alfa  -1.0*alfa
60   1.0*alfa  -1.0*alfa   1.0*alfa  -1.0*alfa  -1.0*alfa   1.0*alfa
Entradas correspondentes:
    A  B  C  D  E  F
33  1  0  0  0  0  1
34  1  0  0  0  1  0
51  1  1  0  0  1  1
60  1  1  1  1  0  0
--------------------------------------------
Equação correspondente:
S1: A
S2: 0
S3: AB
S4: A'B' + A'B + AB'
S5: B'
S6: A'B' + AB
--------------------------------------------
As colunas 'S3' e 'S4' são diferentes e a coluna 'S5' é igual à '1.0*alfa'
Saídas correspondentes:
           S1         S2         S3         S4        S5         S6
3   -1.0*alfa   1.0*alfa  -1.0*alfa   1.0*alfa  1.0*alfa  -1.0*alfa
29   1.0*alfa   1.0*alfa   1.0*alfa  -1.0*alfa  1.0*alfa   1.0*alfa
33  -1.0*alfa  -1.0*alfa  -1.0*alfa   1.0*alfa  1.0*alfa   1.0*alfa
51   1.0*alfa  -1.0*alfa  -1.0*alfa   1.0*alfa  1.0*alfa  -1.0*alfa
Entradas correspondentes:
    A  B  C  D  E  F
3   0  0  0  0  1  1
29  0  1  1  1  0  1
33  1  0  0  0  0  1
51  1  1  0  0  1  1
Equação correspondente:
S1: B
S2: A'
S3: A'B
S4: A'B' + AB' + AB
S5: 1
S6: A'B + AB'
--------------------------------------------
As colunas 'S3' e 'S4' são diferentes e a coluna 'S5' é igual à '-1.0*alfa'
Saídas correspondentes:
           S1         S2         S3         S4         S5         S6
12  -1.0*alfa   1.0*alfa   1.0*alfa  -1.0*alfa  -1.0*alfa   1.0*alfa
30   1.0*alfa   1.0*alfa   1.0*alfa  -1.0*alfa  -1.0*alfa  -1.0*alfa
34  -1.0*alfa  -1.0*alfa  -1.0*alfa   1.0*alfa  -1.0*alfa  -1.0*alfa
60   1.0*alfa  -1.0*alfa   1.0*alfa  -1.0*alfa  -1.0*alfa   1.0*alfa
Entradas correspondentes:
    A  B  C  D  E  F
12  0  0  1  1  0  0
30  0  1  1  1  1  0
34  1  0  0  0  1  0
60  1  1  1  1  0  0
--------------------------------------------
Equação correspondente:
S1: B
S2: A'
S3: A'B' + A'B + AB
S4: AB'
S5: 0
S6: A'B' + AB
--------------------------------------------
As colunas 'S3' e 'S4' são diferentes e a coluna 'S6' é igual à '1.0*alfa'
Saídas correspondentes:
           S1         S2         S3         S4         S5        S6
12  -1.0*alfa   1.0*alfa   1.0*alfa  -1.0*alfa  -1.0*alfa  1.0*alfa
29   1.0*alfa   1.0*alfa   1.0*alfa  -1.0*alfa   1.0*alfa  1.0*alfa
33  -1.0*alfa  -1.0*alfa  -1.0*alfa   1.0*alfa   1.0*alfa  1.0*alfa
60   1.0*alfa  -1.0*alfa   1.0*alfa  -1.0*alfa  -1.0*alfa  1.0*alfa
Entradas correspondentes:
    A  B  C  D  E  F
12  0  0  1  1  0  0
29  0  1  1  1  0  1
33  1  0  0  0  0  1
60  1  1  1  1  0  0
Equação correspondente:
S1: B
S2: A'
S3: A'B' + A'B + AB
S4: AB'
S5: A'B + AB'
S6: 1
--------------------------------------------
As colunas 'S3' e 'S4' são diferentes e a coluna 'S6' é igual à '-1.0*alfa'
Saídas correspondentes:
           S1         S2         S3         S4         S5         S6
3   -1.0*alfa   1.0*alfa  -1.0*alfa   1.0*alfa   1.0*alfa  -1.0*alfa
30   1.0*alfa   1.0*alfa   1.0*alfa  -1.0*alfa  -1.0*alfa  -1.0*alfa
34  -1.0*alfa  -1.0*alfa  -1.0*alfa   1.0*alfa  -1.0*alfa  -1.0*alfa
51   1.0*alfa  -1.0*alfa  -1.0*alfa   1.0*alfa   1.0*alfa  -1.0*alfa
Entradas correspondentes:
    A  B  C  D  E  F
3   0  0  0  0  1  1
30  0  1  1  1  1  0
34  1  0  0  0  1  0
51  1  1  0  0  1  1
--------------------------------------------
Equação correspondente:
S1: B
S2: A'
S3: A'B
S4: A'B' + AB' + AB
S5: A'B' + AB
S6: 0
--------------------------------------------
Linhas onde S3 é igual a S5 nos dados de saída:
           S1         S2         S3         S4         S5         S6
4   -1.0*alfa   1.0*alfa  -1.0*alfa  -1.0*alfa  -1.0*alfa   1.0*alfa
11  -1.0*alfa   1.0*alfa   1.0*alfa   1.0*alfa   1.0*alfa  -1.0*alfa
22   1.0*alfa   1.0*alfa  -1.0*alfa  -1.0*alfa  -1.0*alfa  -1.0*alfa
29   1.0*alfa   1.0*alfa   1.0*alfa  -1.0*alfa   1.0*alfa   1.0*alfa
34  -1.0*alfa  -1.0*alfa  -1.0*alfa   1.0*alfa  -1.0*alfa  -1.0*alfa
41  -1.0*alfa  -1.0*alfa   1.0*alfa   1.0*alfa   1.0*alfa   1.0*alfa
52   1.0*alfa  -1.0*alfa  -1.0*alfa  -1.0*alfa  -1.0*alfa   1.0*alfa
59   1.0*alfa  -1.0*alfa   1.0*alfa   1.0*alfa   1.0*alfa  -1.0*alfa

Correspondentes nos dados de entrada:
    A  B  C  D  E  F
4   0  0  0  1  0  0
11  0  0  1  0  1  1
22  0  1  0  1  1  0
29  0  1  1  1  0  1
34  1  0  0  0  1  0
41  1  0  1  0  0  1
52  1  1  0  1  0  0
59  1  1  1  0  1  1
Equação correspondente:
S1: B
S2: A'
S3: C
S4: A'B'C  + AB'C' + AB'C + ABC
S5: C
S6: A'B'C'  + A'BC + AB'C + ABC'
--------------------------------------------
Linhas onde S3 é igual a S6 nos dados de saída:
           S1         S2         S3         S4         S5         S6
3   -1.0*alfa   1.0*alfa  -1.0*alfa   1.0*alfa   1.0*alfa  -1.0*alfa
12  -1.0*alfa   1.0*alfa   1.0*alfa  -1.0*alfa  -1.0*alfa   1.0*alfa
22   1.0*alfa   1.0*alfa  -1.0*alfa  -1.0*alfa  -1.0*alfa  -1.0*alfa
29   1.0*alfa   1.0*alfa   1.0*alfa  -1.0*alfa   1.0*alfa   1.0*alfa
34  -1.0*alfa  -1.0*alfa  -1.0*alfa   1.0*alfa  -1.0*alfa  -1.0*alfa
41  -1.0*alfa  -1.0*alfa   1.0*alfa   1.0*alfa   1.0*alfa   1.0*alfa
51   1.0*alfa  -1.0*alfa  -1.0*alfa   1.0*alfa   1.0*alfa  -1.0*alfa
60   1.0*alfa  -1.0*alfa   1.0*alfa  -1.0*alfa  -1.0*alfa   1.0*alfa

Correspondentes nos dados de entrada:
    A  B  C  D  E  F
3   0  0  0  0  1  1
12  0  0  1  1  0  0
22  0  1  0  1  1  0
29  0  1  1  1  0  1
34  1  0  0  0  1  0
41  1  0  1  0  0  1
51  1  1  0  0  1  1
60  1  1  1  1  0  0
Equação correspondente:
S1: B
S2: A'
S3: C
S4: A'B'C'  + AB'C' + AB'C + ABC'
S5: A'B'C'  + A'BC + AB'C + ABC'
S6: C
--------------------------------------------
Linhas onde S4 é igual a S5 nos dados de saída:
           S1         S2         S3         S4         S5         S6
3   -1.0*alfa   1.0*alfa  -1.0*alfa   1.0*alfa   1.0*alfa  -1.0*alfa
4   -1.0*alfa   1.0*alfa  -1.0*alfa  -1.0*alfa  -1.0*alfa   1.0*alfa
11  -1.0*alfa   1.0*alfa   1.0*alfa   1.0*alfa   1.0*alfa  -1.0*alfa
12  -1.0*alfa   1.0*alfa   1.0*alfa  -1.0*alfa  -1.0*alfa   1.0*alfa
22   1.0*alfa   1.0*alfa  -1.0*alfa  -1.0*alfa  -1.0*alfa  -1.0*alfa
30   1.0*alfa   1.0*alfa   1.0*alfa  -1.0*alfa  -1.0*alfa  -1.0*alfa
33  -1.0*alfa  -1.0*alfa  -1.0*alfa   1.0*alfa   1.0*alfa   1.0*alfa
41  -1.0*alfa  -1.0*alfa   1.0*alfa   1.0*alfa   1.0*alfa   1.0*alfa
51   1.0*alfa  -1.0*alfa  -1.0*alfa   1.0*alfa   1.0*alfa  -1.0*alfa
52   1.0*alfa  -1.0*alfa  -1.0*alfa  -1.0*alfa  -1.0*alfa   1.0*alfa
59   1.0*alfa  -1.0*alfa   1.0*alfa   1.0*alfa   1.0*alfa  -1.0*alfa
60   1.0*alfa  -1.0*alfa   1.0*alfa  -1.0*alfa  -1.0*alfa   1.0*alfa

Correspondentes nos dados de entrada:
    A  B  C  D  E  F
3   0  0  0  0  1  1
4   0  0  0  1  0  0
11  0  0  1  0  1  1
12  0  0  1  1  0  0
22  0  1  0  1  1  0
30  0  1  1  1  1  0
33  1  0  0  0  0  1
41  1  0  1  0  0  1
51  1  1  0  0  1  1
52  1  1  0  1  0  0
59  1  1  1  0  1  1
60  1  1  1  1  0  0
Equação correspondente:
S1: None
S2: None
S3: None
S4: None
S5: None
S6: None
--------------------------------------------
Linhas onde S4 é igual a S6 nos dados de saída:
           S1         S2         S3         S4         S5         S6
22   1.0*alfa   1.0*alfa  -1.0*alfa  -1.0*alfa  -1.0*alfa  -1.0*alfa
30   1.0*alfa   1.0*alfa   1.0*alfa  -1.0*alfa  -1.0*alfa  -1.0*alfa
33  -1.0*alfa  -1.0*alfa  -1.0*alfa   1.0*alfa   1.0*alfa   1.0*alfa
41  -1.0*alfa  -1.0*alfa   1.0*alfa   1.0*alfa   1.0*alfa   1.0*alfa

Correspondentes nos dados de entrada:
    A  B  C  D  E  F
22  0  1  0  1  1  0
30  0  1  1  1  1  0
33  1  0  0  0  0  1
41  1  0  1  0  0  1
Equação correspondente:
S1: A'
S2: A'
S3: B
S4: A
S5: A
S6: A
--------------------------------------------
As colunas 'S5' e 'S6' são iguais e a coluna 'S1' é igual à '1.0*alfa'
Saídas correspondentes:
          S1        S2         S3         S4         S5         S6
21  1.0*alfa  1.0*alfa  -1.0*alfa  -1.0*alfa   1.0*alfa   1.0*alfa
22  1.0*alfa  1.0*alfa  -1.0*alfa  -1.0*alfa  -1.0*alfa  -1.0*alfa
29  1.0*alfa  1.0*alfa   1.0*alfa  -1.0*alfa   1.0*alfa   1.0*alfa
30  1.0*alfa  1.0*alfa   1.0*alfa  -1.0*alfa  -1.0*alfa  -1.0*alfa
Entradas correspondentes:
    A  B  C  D  E  F
21  0  1  0  1  0  1
22  0  1  0  1  1  0
29  0  1  1  1  0  1
30  0  1  1  1  1  0
Equação correspondente:
S1: 1
S2: 1
S3: A
S4: 0
S5: B'
S6: B'
--------------------------------------------
As colunas 'S5' e 'S6' são iguais e a coluna 'S1' é igual à '-1.0*alfa'
Saídas correspondentes:
           S1         S2         S3        S4         S5         S6
33  -1.0*alfa  -1.0*alfa  -1.0*alfa  1.0*alfa   1.0*alfa   1.0*alfa
34  -1.0*alfa  -1.0*alfa  -1.0*alfa  1.0*alfa  -1.0*alfa  -1.0*alfa
41  -1.0*alfa  -1.0*alfa   1.0*alfa  1.0*alfa   1.0*alfa   1.0*alfa
42  -1.0*alfa  -1.0*alfa   1.0*alfa  1.0*alfa  -1.0*alfa  -1.0*alfa
Entradas correspondentes:
    A  B  C  D  E  F
33  1  0  0  0  0  1
34  1  0  0  0  1  0
41  1  0  1  0  0  1
42  1  0  1  0  1  0
Equação correspondente:
S1: 0
S2: 0
S3: A
S4: 1
S5: B'
S6: B'
--------------------------------------------
As colunas 'S5' e 'S6' são iguais e a coluna 'S2' é igual à '1.0*alfa'
Saídas correspondentes:
          S1        S2         S3         S4         S5         S6
21  1.0*alfa  1.0*alfa  -1.0*alfa  -1.0*alfa   1.0*alfa   1.0*alfa
22  1.0*alfa  1.0*alfa  -1.0*alfa  -1.0*alfa  -1.0*alfa  -1.0*alfa
29  1.0*alfa  1.0*alfa   1.0*alfa  -1.0*alfa   1.0*alfa   1.0*alfa
30  1.0*alfa  1.0*alfa   1.0*alfa  -1.0*alfa  -1.0*alfa  -1.0*alfa
Entradas correspondentes:
    A  B  C  D  E  F
21  0  1  0  1  0  1
22  0  1  0  1  1  0
29  0  1  1  1  0  1
30  0  1  1  1  1  0
Equação correspondente:
S1: 1
S2: 1
S3: A
S4: 0
S5: B'
S6: B'
--------------------------------------------
As colunas 'S5' e 'S6' são iguais e a coluna 'S2' é igual à '-1.0*alfa'
Saídas correspondentes:
           S1         S2         S3        S4         S5         S6
33  -1.0*alfa  -1.0*alfa  -1.0*alfa  1.0*alfa   1.0*alfa   1.0*alfa
34  -1.0*alfa  -1.0*alfa  -1.0*alfa  1.0*alfa  -1.0*alfa  -1.0*alfa
41  -1.0*alfa  -1.0*alfa   1.0*alfa  1.0*alfa   1.0*alfa   1.0*alfa
42  -1.0*alfa  -1.0*alfa   1.0*alfa  1.0*alfa  -1.0*alfa  -1.0*alfa
Entradas correspondentes:
    A  B  C  D  E  F
33  1  0  0  0  0  1
34  1  0  0  0  1  0
41  1  0  1  0  0  1
42  1  0  1  0  1  0
Equação correspondente:
S1: 0
S2: 0
S3: A
S4: 1
S5: B'
S6: B'
--------------------------------------------
As colunas 'S5' e 'S6' são diferentes e a coluna 'S1' é igual à '1.0*alfa'
Saídas correspondentes:
          S1         S2         S3         S4         S5         S6
51  1.0*alfa  -1.0*alfa  -1.0*alfa   1.0*alfa   1.0*alfa  -1.0*alfa
52  1.0*alfa  -1.0*alfa  -1.0*alfa  -1.0*alfa  -1.0*alfa   1.0*alfa
59  1.0*alfa  -1.0*alfa   1.0*alfa   1.0*alfa   1.0*alfa  -1.0*alfa
60  1.0*alfa  -1.0*alfa   1.0*alfa  -1.0*alfa  -1.0*alfa   1.0*alfa
Entradas correspondentes:
    A  B  C  D  E  F
51  1  1  0  0  1  1
52  1  1  0  1  0  0
59  1  1  1  0  1  1
60  1  1  1  1  0  0
Equação correspondente:
S1: 1
S2: 0
S3: A
S4: B'
S5: B'
S6: B
--------------------------------------------
As colunas 'S5' e 'S6' são diferentes e a coluna 'S1' é igual à '-1.0*alfa'
Saídas correspondentes:
           S1        S2         S3         S4         S5         S6
3   -1.0*alfa  1.0*alfa  -1.0*alfa   1.0*alfa   1.0*alfa  -1.0*alfa
4   -1.0*alfa  1.0*alfa  -1.0*alfa  -1.0*alfa  -1.0*alfa   1.0*alfa
11  -1.0*alfa  1.0*alfa   1.0*alfa   1.0*alfa   1.0*alfa  -1.0*alfa
12  -1.0*alfa  1.0*alfa   1.0*alfa  -1.0*alfa  -1.0*alfa   1.0*alfa
Entradas correspondentes:
    A  B  C  D  E  F
3   0  0  0  0  1  1
4   0  0  0  1  0  0
11  0  0  1  0  1  1
12  0  0  1  1  0  0
--------------------------------------------
Equação correspondente:
S1: 0
S2: 1
S3: A
S4: B'
S5: B'
S6: B
--------------------------------------------
As colunas 'S5' e 'S6' são diferentes e a coluna 'S2' é igual à '1.0*alfa'
Saídas correspondentes:
           S1        S2         S3         S4         S5         S6
3   -1.0*alfa  1.0*alfa  -1.0*alfa   1.0*alfa   1.0*alfa  -1.0*alfa
4   -1.0*alfa  1.0*alfa  -1.0*alfa  -1.0*alfa  -1.0*alfa   1.0*alfa
11  -1.0*alfa  1.0*alfa   1.0*alfa   1.0*alfa   1.0*alfa  -1.0*alfa
12  -1.0*alfa  1.0*alfa   1.0*alfa  -1.0*alfa  -1.0*alfa   1.0*alfa
Entradas correspondentes:
    A  B  C  D  E  F
3   0  0  0  0  1  1
4   0  0  0  1  0  0
11  0  0  1  0  1  1
12  0  0  1  1  0  0
Equação correspondente:
S1: 0
S2: 1
S3: A
S4: B'
S5: B'
S6: B
--------------------------------------------
As colunas 'S5' e 'S6' são diferentes e a coluna 'S2' é igual à '-1.0*alfa'
Saídas correspondentes:
          S1         S2         S3         S4         S5         S6
51  1.0*alfa  -1.0*alfa  -1.0*alfa   1.0*alfa   1.0*alfa  -1.0*alfa
52  1.0*alfa  -1.0*alfa  -1.0*alfa  -1.0*alfa  -1.0*alfa   1.0*alfa
59  1.0*alfa  -1.0*alfa   1.0*alfa   1.0*alfa   1.0*alfa  -1.0*alfa
60  1.0*alfa  -1.0*alfa   1.0*alfa  -1.0*alfa  -1.0*alfa   1.0*alfa
Entradas correspondentes:
    A  B  C  D  E  F
51  1  1  0  0  1  1
52  1  1  0  1  0  0
59  1  1  1  0  1  1
60  1  1  1  1  0  0
--------------------------------------------
Equação correspondente:
S1: 1
S2: 0
S3: A
S4: B'
S5: B'
S6: B
--------------------------------------------
